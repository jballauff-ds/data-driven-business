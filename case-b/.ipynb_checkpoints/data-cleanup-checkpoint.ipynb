{
 "cells": [
  {
   "cell_type": "markdown",
   "metadata": {
    "id": "cHtXo-mly4YT"
   },
   "source": [
    "# Data quality control and cleanup\n",
    "\n",
    "## Buiseness Questions\n",
    " We also explore some more specific buiseness questions along the way. These should help us get an overwiev over the dataset and solve potential issues, that we need to deal with in the jionitial data clean-up:\n",
    "\n",
    "* How should products be classified into different categories to simplify reports and analysis?\n",
    "* What is the distribution of product prices across different categories?\n",
    "* How many products are being discounted?\n",
    "* How big are the offered discounts as a percentage of the product prices?\n",
    "* How do seasonality and special dates (Christmas, Black Friday) affect sales?\n",
    "* How could data collection be improved?\n"
   ]
  },
  {
   "cell_type": "markdown",
   "metadata": {
    "id": "enQ7CZo713vS"
   },
   "source": [
    "# Dataframes, Series Description\n",
    "\n",
    "orders.csv - Every row in this file represents an order.\n",
    "* order_id - a unique identifier for each order\n",
    "* created_date - a timestamp for when the order was created\n",
    "* total_paid - the total amount paid by the customer for this order, in euros\n",
    "   state\n",
    "  * “Shopping basket” - products have been placed in the shopping basket, but the order has not been processed yet.\n",
    "  * “Pending” - the shopping basket has been processed, but payment confirmation is pending.\n",
    "  * “Completed” - the order has been placed and paid, and the transaction is completed0.\n",
    "  * “Cancelled” - the order has been cancelled and the payment returned to the customer.\n",
    "\n",
    "orderlines.csv - Every row represents each one of the different products involved in an order.\n",
    "* id - a unique identifier for each row in this file\n",
    "* id_order - corresponds to orders.order_id\n",
    "* product_id - an old identifier for each product, nowadays not in use\n",
    "* product_quantity - how many units of that product were purchased on that order\n",
    "* sku - stock keeping unit: a unique identifier for each product\n",
    "* unit_price - the unitary price (in euros) of each product at the moment of placing that order\n",
    "* date - timestamp for the processing of that product\n",
    "\n",
    "products.csv\n",
    "* sku - stock keeping unit: a unique identifier for each product\n",
    "* name - product name\n",
    "* desc - product description\n",
    "* in_stock - whether or not the product was in stock at the moment of the data extraction\n",
    "* type - a numerical code for product type\n",
    "\n",
    "brands.csv\n",
    "* short - the 3-character code by which the brand can be identified in the first 3 characters of products.sku\n",
    "* long - brand name"
   ]
  },
  {
   "cell_type": "markdown",
   "metadata": {
    "id": "RvPGm6XL6ubl"
   },
   "source": [
    "# Libraries and Data Import"
   ]
  },
  {
   "cell_type": "code",
   "execution_count": 63,
   "metadata": {
    "id": "1CSsBp5JY7D1"
   },
   "outputs": [],
   "source": [
    "import seaborn as sns\n",
    "import pandas as pd\n",
    "import matplotlib.pyplot as plt"
   ]
  },
  {
   "cell_type": "code",
   "execution_count": 64,
   "metadata": {
    "id": "PGmIXBSCy0Dn"
   },
   "outputs": [],
   "source": [
    "path = \"./data/orderlines.csv\"\n",
    "ordlns_org_df  = pd.read_csv(path)\n",
    "path = \"./data/orders.csv\"\n",
    "orders_org_df  = pd.read_csv(path)\n",
    "path = \"./data/products.csv\"\n",
    "products_org_df  = pd.read_csv(path)\n",
    "path = \"./data/brands.csv\"\n",
    "brands_org_df  = pd.read_csv(path)"
   ]
  },
  {
   "cell_type": "markdown",
   "metadata": {
    "id": "8ncdauNk8art"
   },
   "source": [
    "# Initial Exploration and Cleanup"
   ]
  },
  {
   "cell_type": "markdown",
   "metadata": {
    "id": "o3ZFwSYq4cH-"
   },
   "source": [
    "## Table: Orders"
   ]
  },
  {
   "cell_type": "code",
   "execution_count": 65,
   "metadata": {
    "id": "1ELAE9SA6V42"
   },
   "outputs": [],
   "source": [
    "orders_df = orders_org_df.copy()"
   ]
  },
  {
   "cell_type": "code",
   "execution_count": 4,
   "metadata": {
    "colab": {
     "base_uri": "https://localhost:8080/"
    },
    "id": "U_N76HwM4fuz",
    "outputId": "97f380f6-cb04-41f9-e031-7d493da12772"
   },
   "outputs": [
    {
     "name": "stdout",
     "output_type": "stream",
     "text": [
      "<class 'pandas.core.frame.DataFrame'>\n",
      "RangeIndex: 226909 entries, 0 to 226908\n",
      "Data columns (total 4 columns):\n",
      " #   Column        Non-Null Count   Dtype  \n",
      "---  ------        --------------   -----  \n",
      " 0   order_id      226909 non-null  int64  \n",
      " 1   created_date  226909 non-null  object \n",
      " 2   total_paid    226904 non-null  float64\n",
      " 3   state         226909 non-null  object \n",
      "dtypes: float64(1), int64(1), object(2)\n",
      "memory usage: 6.9+ MB\n"
     ]
    }
   ],
   "source": [
    "orders_df.info()"
   ]
  },
  {
   "cell_type": "code",
   "execution_count": 5,
   "metadata": {
    "colab": {
     "base_uri": "https://localhost:8080/",
     "height": 112
    },
    "id": "925o615G4t5O",
    "outputId": "9a5fc28d-e03f-40f3-ad15-424be394c56c"
   },
   "outputs": [
    {
     "data": {
      "text/html": [
       "<div>\n",
       "<style scoped>\n",
       "    .dataframe tbody tr th:only-of-type {\n",
       "        vertical-align: middle;\n",
       "    }\n",
       "\n",
       "    .dataframe tbody tr th {\n",
       "        vertical-align: top;\n",
       "    }\n",
       "\n",
       "    .dataframe thead th {\n",
       "        text-align: right;\n",
       "    }\n",
       "</style>\n",
       "<table border=\"1\" class=\"dataframe\">\n",
       "  <thead>\n",
       "    <tr style=\"text-align: right;\">\n",
       "      <th></th>\n",
       "      <th>order_id</th>\n",
       "      <th>created_date</th>\n",
       "      <th>total_paid</th>\n",
       "      <th>state</th>\n",
       "    </tr>\n",
       "  </thead>\n",
       "  <tbody>\n",
       "    <tr>\n",
       "      <th>0</th>\n",
       "      <td>241319</td>\n",
       "      <td>2017-01-02 13:35:40</td>\n",
       "      <td>44.99</td>\n",
       "      <td>Cancelled</td>\n",
       "    </tr>\n",
       "    <tr>\n",
       "      <th>1</th>\n",
       "      <td>241423</td>\n",
       "      <td>2017-11-06 13:10:02</td>\n",
       "      <td>136.15</td>\n",
       "      <td>Completed</td>\n",
       "    </tr>\n",
       "  </tbody>\n",
       "</table>\n",
       "</div>"
      ],
      "text/plain": [
       "   order_id         created_date  total_paid      state\n",
       "0    241319  2017-01-02 13:35:40       44.99  Cancelled\n",
       "1    241423  2017-11-06 13:10:02      136.15  Completed"
      ]
     },
     "execution_count": 5,
     "metadata": {},
     "output_type": "execute_result"
    }
   ],
   "source": [
    "orders_df.head(2)"
   ]
  },
  {
   "cell_type": "code",
   "execution_count": 6,
   "metadata": {
    "colab": {
     "base_uri": "https://localhost:8080/",
     "height": 112
    },
    "id": "Nv3N-smm4uh1",
    "outputId": "d5c8a852-be55-4fae-a90c-3618309affd3"
   },
   "outputs": [
    {
     "data": {
      "text/html": [
       "<div>\n",
       "<style scoped>\n",
       "    .dataframe tbody tr th:only-of-type {\n",
       "        vertical-align: middle;\n",
       "    }\n",
       "\n",
       "    .dataframe tbody tr th {\n",
       "        vertical-align: top;\n",
       "    }\n",
       "\n",
       "    .dataframe thead th {\n",
       "        text-align: right;\n",
       "    }\n",
       "</style>\n",
       "<table border=\"1\" class=\"dataframe\">\n",
       "  <thead>\n",
       "    <tr style=\"text-align: right;\">\n",
       "      <th></th>\n",
       "      <th>order_id</th>\n",
       "      <th>created_date</th>\n",
       "      <th>total_paid</th>\n",
       "      <th>state</th>\n",
       "    </tr>\n",
       "  </thead>\n",
       "  <tbody>\n",
       "    <tr>\n",
       "      <th>226907</th>\n",
       "      <td>527400</td>\n",
       "      <td>2018-03-14 13:57:41</td>\n",
       "      <td>19.98</td>\n",
       "      <td>Shopping Basket</td>\n",
       "    </tr>\n",
       "    <tr>\n",
       "      <th>226908</th>\n",
       "      <td>527401</td>\n",
       "      <td>2018-03-14 13:58:36</td>\n",
       "      <td>18.98</td>\n",
       "      <td>Place Order</td>\n",
       "    </tr>\n",
       "  </tbody>\n",
       "</table>\n",
       "</div>"
      ],
      "text/plain": [
       "        order_id         created_date  total_paid            state\n",
       "226907    527400  2018-03-14 13:57:41       19.98  Shopping Basket\n",
       "226908    527401  2018-03-14 13:58:36       18.98      Place Order"
      ]
     },
     "execution_count": 6,
     "metadata": {},
     "output_type": "execute_result"
    }
   ],
   "source": [
    "orders_df.tail(2)"
   ]
  },
  {
   "cell_type": "code",
   "execution_count": 7,
   "metadata": {
    "colab": {
     "base_uri": "https://localhost:8080/"
    },
    "id": "BBMK9tKW5ICM",
    "outputId": "d4b42e61-cfa3-4a79-dade-adf83c6bb1c5"
   },
   "outputs": [
    {
     "data": {
      "text/plain": [
       "0"
      ]
     },
     "execution_count": 7,
     "metadata": {},
     "output_type": "execute_result"
    }
   ],
   "source": [
    "orders_df.duplicated().sum()"
   ]
  },
  {
   "cell_type": "code",
   "execution_count": 8,
   "metadata": {
    "colab": {
     "base_uri": "https://localhost:8080/"
    },
    "id": "cPzuZl987vqu",
    "outputId": "efbaed4c-598a-42e7-8b4b-00b495e7435e"
   },
   "outputs": [
    {
     "data": {
      "text/plain": [
       "0"
      ]
     },
     "execution_count": 8,
     "metadata": {},
     "output_type": "execute_result"
    }
   ],
   "source": [
    "orders_df[\"order_id\"].duplicated().sum()"
   ]
  },
  {
   "cell_type": "code",
   "execution_count": 9,
   "metadata": {
    "colab": {
     "base_uri": "https://localhost:8080/",
     "height": 112
    },
    "id": "xWi8U8QA5BAh",
    "outputId": "82e5b5d7-0b0c-4563-aaaf-83638a9d9bc7"
   },
   "outputs": [
    {
     "data": {
      "text/html": [
       "<div>\n",
       "<style scoped>\n",
       "    .dataframe tbody tr th:only-of-type {\n",
       "        vertical-align: middle;\n",
       "    }\n",
       "\n",
       "    .dataframe tbody tr th {\n",
       "        vertical-align: top;\n",
       "    }\n",
       "\n",
       "    .dataframe thead th {\n",
       "        text-align: right;\n",
       "    }\n",
       "</style>\n",
       "<table border=\"1\" class=\"dataframe\">\n",
       "  <thead>\n",
       "    <tr style=\"text-align: right;\">\n",
       "      <th></th>\n",
       "      <th>order_id</th>\n",
       "      <th>created_date</th>\n",
       "      <th>total_paid</th>\n",
       "      <th>state</th>\n",
       "    </tr>\n",
       "  </thead>\n",
       "  <tbody>\n",
       "    <tr>\n",
       "      <th>Number of NaNs</th>\n",
       "      <td>0.0</td>\n",
       "      <td>0.0</td>\n",
       "      <td>5.000</td>\n",
       "      <td>0.0</td>\n",
       "    </tr>\n",
       "    <tr>\n",
       "      <th>% NaNs</th>\n",
       "      <td>0.0</td>\n",
       "      <td>0.0</td>\n",
       "      <td>0.002</td>\n",
       "      <td>0.0</td>\n",
       "    </tr>\n",
       "  </tbody>\n",
       "</table>\n",
       "</div>"
      ],
      "text/plain": [
       "                order_id  created_date  total_paid  state\n",
       "Number of NaNs       0.0           0.0       5.000    0.0\n",
       "% NaNs               0.0           0.0       0.002    0.0"
      ]
     },
     "execution_count": 9,
     "metadata": {},
     "output_type": "execute_result"
    }
   ],
   "source": [
    "orders_df.apply(lambda x: pd.Series([x.isna().sum(), round((x.isna().sum()/x.count())*100, 3)], index = [\"Number of NaNs\", \"% NaNs\"]), axis = 0)"
   ]
  },
  {
   "cell_type": "markdown",
   "metadata": {
    "id": "OaoSugTZ6vTG"
   },
   "source": [
    "### Requried Cleanup:\n",
    "* convert \"create_date\" to datetime\n",
    "* convert \"state\" to category\n",
    "* remove rows with NaNs in \"total_paid\""
   ]
  },
  {
   "cell_type": "code",
   "execution_count": 10,
   "metadata": {
    "id": "XuwH_kAE8KxL"
   },
   "outputs": [],
   "source": [
    "orders_df[\"created_date\"] = pd.to_datetime(orders_df[\"created_date\"])\n",
    "orders_df[\"state\"] = orders_df[\"state\"].astype(\"category\")\n",
    "orders_df = orders_df.loc[~orders_df[\"total_paid\"].isna(),:]"
   ]
  },
  {
   "cell_type": "code",
   "execution_count": 11,
   "metadata": {
    "colab": {
     "base_uri": "https://localhost:8080/"
    },
    "id": "6IvsVlfg9DOU",
    "outputId": "41a888e3-08ca-418e-d180-a2ef0338ddc3"
   },
   "outputs": [
    {
     "name": "stdout",
     "output_type": "stream",
     "text": [
      "<class 'pandas.core.frame.DataFrame'>\n",
      "Index: 226904 entries, 0 to 226908\n",
      "Data columns (total 4 columns):\n",
      " #   Column        Non-Null Count   Dtype         \n",
      "---  ------        --------------   -----         \n",
      " 0   order_id      226904 non-null  int64         \n",
      " 1   created_date  226904 non-null  datetime64[ns]\n",
      " 2   total_paid    226904 non-null  float64       \n",
      " 3   state         226904 non-null  category      \n",
      "dtypes: category(1), datetime64[ns](1), float64(1), int64(1)\n",
      "memory usage: 7.1 MB\n"
     ]
    }
   ],
   "source": [
    "orders_df.info()"
   ]
  },
  {
   "cell_type": "markdown",
   "metadata": {
    "id": "5y_7Rbj--AGT"
   },
   "source": [
    "## Table Orderlines"
   ]
  },
  {
   "cell_type": "code",
   "execution_count": 12,
   "metadata": {
    "id": "c6Lk7PNH-AGa"
   },
   "outputs": [],
   "source": [
    "ordlns_df = ordlns_org_df.copy()"
   ]
  },
  {
   "cell_type": "code",
   "execution_count": 13,
   "metadata": {
    "colab": {
     "base_uri": "https://localhost:8080/"
    },
    "id": "RkflPYFV-AGb",
    "outputId": "39787b18-56c2-46c7-ff6f-bbdf015ea674"
   },
   "outputs": [
    {
     "name": "stdout",
     "output_type": "stream",
     "text": [
      "<class 'pandas.core.frame.DataFrame'>\n",
      "RangeIndex: 293983 entries, 0 to 293982\n",
      "Data columns (total 7 columns):\n",
      " #   Column            Non-Null Count   Dtype \n",
      "---  ------            --------------   ----- \n",
      " 0   id                293983 non-null  int64 \n",
      " 1   id_order          293983 non-null  int64 \n",
      " 2   product_id        293983 non-null  int64 \n",
      " 3   product_quantity  293983 non-null  int64 \n",
      " 4   sku               293983 non-null  object\n",
      " 5   unit_price        293983 non-null  object\n",
      " 6   date              293983 non-null  object\n",
      "dtypes: int64(4), object(3)\n",
      "memory usage: 15.7+ MB\n"
     ]
    }
   ],
   "source": [
    "ordlns_df.info()"
   ]
  },
  {
   "cell_type": "code",
   "execution_count": 14,
   "metadata": {
    "colab": {
     "base_uri": "https://localhost:8080/",
     "height": 112
    },
    "id": "FPLforSL-AGb",
    "outputId": "bdcf8b9f-1a3d-463f-caa5-13b36c9e6b00"
   },
   "outputs": [
    {
     "data": {
      "text/html": [
       "<div>\n",
       "<style scoped>\n",
       "    .dataframe tbody tr th:only-of-type {\n",
       "        vertical-align: middle;\n",
       "    }\n",
       "\n",
       "    .dataframe tbody tr th {\n",
       "        vertical-align: top;\n",
       "    }\n",
       "\n",
       "    .dataframe thead th {\n",
       "        text-align: right;\n",
       "    }\n",
       "</style>\n",
       "<table border=\"1\" class=\"dataframe\">\n",
       "  <thead>\n",
       "    <tr style=\"text-align: right;\">\n",
       "      <th></th>\n",
       "      <th>id</th>\n",
       "      <th>id_order</th>\n",
       "      <th>product_id</th>\n",
       "      <th>product_quantity</th>\n",
       "      <th>sku</th>\n",
       "      <th>unit_price</th>\n",
       "      <th>date</th>\n",
       "    </tr>\n",
       "  </thead>\n",
       "  <tbody>\n",
       "    <tr>\n",
       "      <th>0</th>\n",
       "      <td>1119109</td>\n",
       "      <td>299539</td>\n",
       "      <td>0</td>\n",
       "      <td>1</td>\n",
       "      <td>OTT0133</td>\n",
       "      <td>18.99</td>\n",
       "      <td>2017-01-01 00:07:19</td>\n",
       "    </tr>\n",
       "    <tr>\n",
       "      <th>1</th>\n",
       "      <td>1119110</td>\n",
       "      <td>299540</td>\n",
       "      <td>0</td>\n",
       "      <td>1</td>\n",
       "      <td>LGE0043</td>\n",
       "      <td>399.00</td>\n",
       "      <td>2017-01-01 00:19:45</td>\n",
       "    </tr>\n",
       "  </tbody>\n",
       "</table>\n",
       "</div>"
      ],
      "text/plain": [
       "        id  id_order  product_id  product_quantity      sku unit_price  \\\n",
       "0  1119109    299539           0                 1  OTT0133      18.99   \n",
       "1  1119110    299540           0                 1  LGE0043     399.00   \n",
       "\n",
       "                  date  \n",
       "0  2017-01-01 00:07:19  \n",
       "1  2017-01-01 00:19:45  "
      ]
     },
     "execution_count": 14,
     "metadata": {},
     "output_type": "execute_result"
    }
   ],
   "source": [
    "ordlns_df.head(2)"
   ]
  },
  {
   "cell_type": "code",
   "execution_count": 15,
   "metadata": {
    "colab": {
     "base_uri": "https://localhost:8080/",
     "height": 112
    },
    "id": "J4jmCj8a-AGc",
    "outputId": "a9b92259-4162-484b-d53d-60f4d2d1ddb7"
   },
   "outputs": [
    {
     "data": {
      "text/html": [
       "<div>\n",
       "<style scoped>\n",
       "    .dataframe tbody tr th:only-of-type {\n",
       "        vertical-align: middle;\n",
       "    }\n",
       "\n",
       "    .dataframe tbody tr th {\n",
       "        vertical-align: top;\n",
       "    }\n",
       "\n",
       "    .dataframe thead th {\n",
       "        text-align: right;\n",
       "    }\n",
       "</style>\n",
       "<table border=\"1\" class=\"dataframe\">\n",
       "  <thead>\n",
       "    <tr style=\"text-align: right;\">\n",
       "      <th></th>\n",
       "      <th>id</th>\n",
       "      <th>id_order</th>\n",
       "      <th>product_id</th>\n",
       "      <th>product_quantity</th>\n",
       "      <th>sku</th>\n",
       "      <th>unit_price</th>\n",
       "      <th>date</th>\n",
       "    </tr>\n",
       "  </thead>\n",
       "  <tbody>\n",
       "    <tr>\n",
       "      <th>293981</th>\n",
       "      <td>1650202</td>\n",
       "      <td>527388</td>\n",
       "      <td>0</td>\n",
       "      <td>1</td>\n",
       "      <td>BEZ0204</td>\n",
       "      <td>19.99</td>\n",
       "      <td>2018-03-14 13:58:01</td>\n",
       "    </tr>\n",
       "    <tr>\n",
       "      <th>293982</th>\n",
       "      <td>1650203</td>\n",
       "      <td>527401</td>\n",
       "      <td>0</td>\n",
       "      <td>1</td>\n",
       "      <td>APP0927</td>\n",
       "      <td>13.99</td>\n",
       "      <td>2018-03-14 13:58:36</td>\n",
       "    </tr>\n",
       "  </tbody>\n",
       "</table>\n",
       "</div>"
      ],
      "text/plain": [
       "             id  id_order  product_id  product_quantity      sku unit_price  \\\n",
       "293981  1650202    527388           0                 1  BEZ0204      19.99   \n",
       "293982  1650203    527401           0                 1  APP0927      13.99   \n",
       "\n",
       "                       date  \n",
       "293981  2018-03-14 13:58:01  \n",
       "293982  2018-03-14 13:58:36  "
      ]
     },
     "execution_count": 15,
     "metadata": {},
     "output_type": "execute_result"
    }
   ],
   "source": [
    "ordlns_df.tail(2)"
   ]
  },
  {
   "cell_type": "code",
   "execution_count": 16,
   "metadata": {
    "colab": {
     "base_uri": "https://localhost:8080/"
    },
    "id": "qt_75BvR-AGc",
    "outputId": "ad9448fd-9a7d-42ec-85c2-9a6979ed61c9"
   },
   "outputs": [
    {
     "data": {
      "text/plain": [
       "0"
      ]
     },
     "execution_count": 16,
     "metadata": {},
     "output_type": "execute_result"
    }
   ],
   "source": [
    "ordlns_df.duplicated().sum()"
   ]
  },
  {
   "cell_type": "code",
   "execution_count": 17,
   "metadata": {
    "colab": {
     "base_uri": "https://localhost:8080/"
    },
    "id": "DvcBBLkk-AGd",
    "outputId": "90637c82-e6c5-418b-dd27-fa080147b767"
   },
   "outputs": [
    {
     "data": {
      "text/plain": [
       "0"
      ]
     },
     "execution_count": 17,
     "metadata": {},
     "output_type": "execute_result"
    }
   ],
   "source": [
    "ordlns_df[\"id\"].duplicated().sum()"
   ]
  },
  {
   "cell_type": "code",
   "execution_count": 18,
   "metadata": {
    "colab": {
     "base_uri": "https://localhost:8080/",
     "height": 112
    },
    "id": "xQ0M2xEp-AGf",
    "outputId": "09d97573-1b53-4401-c8d2-28dbfa674efa"
   },
   "outputs": [
    {
     "data": {
      "text/html": [
       "<div>\n",
       "<style scoped>\n",
       "    .dataframe tbody tr th:only-of-type {\n",
       "        vertical-align: middle;\n",
       "    }\n",
       "\n",
       "    .dataframe tbody tr th {\n",
       "        vertical-align: top;\n",
       "    }\n",
       "\n",
       "    .dataframe thead th {\n",
       "        text-align: right;\n",
       "    }\n",
       "</style>\n",
       "<table border=\"1\" class=\"dataframe\">\n",
       "  <thead>\n",
       "    <tr style=\"text-align: right;\">\n",
       "      <th></th>\n",
       "      <th>id</th>\n",
       "      <th>id_order</th>\n",
       "      <th>product_id</th>\n",
       "      <th>product_quantity</th>\n",
       "      <th>sku</th>\n",
       "      <th>unit_price</th>\n",
       "      <th>date</th>\n",
       "    </tr>\n",
       "  </thead>\n",
       "  <tbody>\n",
       "    <tr>\n",
       "      <th>Number of NaNs</th>\n",
       "      <td>0.0</td>\n",
       "      <td>0.0</td>\n",
       "      <td>0.0</td>\n",
       "      <td>0.0</td>\n",
       "      <td>0.0</td>\n",
       "      <td>0.0</td>\n",
       "      <td>0.0</td>\n",
       "    </tr>\n",
       "    <tr>\n",
       "      <th>% NaNs</th>\n",
       "      <td>0.0</td>\n",
       "      <td>0.0</td>\n",
       "      <td>0.0</td>\n",
       "      <td>0.0</td>\n",
       "      <td>0.0</td>\n",
       "      <td>0.0</td>\n",
       "      <td>0.0</td>\n",
       "    </tr>\n",
       "  </tbody>\n",
       "</table>\n",
       "</div>"
      ],
      "text/plain": [
       "                 id  id_order  product_id  product_quantity  sku  unit_price  \\\n",
       "Number of NaNs  0.0       0.0         0.0               0.0  0.0         0.0   \n",
       "% NaNs          0.0       0.0         0.0               0.0  0.0         0.0   \n",
       "\n",
       "                date  \n",
       "Number of NaNs   0.0  \n",
       "% NaNs           0.0  "
      ]
     },
     "execution_count": 18,
     "metadata": {},
     "output_type": "execute_result"
    }
   ],
   "source": [
    "ordlns_df.apply(lambda x: pd.Series([x.isna().sum(), round((x.isna().sum()/x.count())*100, 3)], index = [\"Number of NaNs\", \"% NaNs\"]), axis = 0)"
   ]
  },
  {
   "cell_type": "markdown",
   "metadata": {
    "id": "CMIKS9x9-AGf"
   },
   "source": [
    "### Requried Cleanup:\n",
    "* rename \"id\" to \"ordln_id\" (descriptive)\n",
    "* rename \"id_order\" to \"order_id\" (consistent)\n",
    "* drop \"product_id\" column (useless)\n",
    "* convert \"unit_price\" to float\n",
    "* convert \"date\" to datetime, rename to \"process_date\" (descriptive)\n",
    "* create a \"brand_id\" column (first three chars of the \"sku\")"
   ]
  },
  {
   "cell_type": "code",
   "execution_count": 19,
   "metadata": {
    "id": "sOdauLFY-AGg"
   },
   "outputs": [],
   "source": [
    "ordlns_df.rename(columns = {\"id\": \"ordln_id\", \"id_order\": \"order_id\", \"date\": \"process_date\"}, inplace = True)\n",
    "ordlns_df[\"process_date\"] = pd.to_datetime(ordlns_df[\"process_date\"])\n",
    "ordlns_df.drop(columns = [\"product_id\"], inplace = True)\n",
    "ordlns_df.loc[:,\"brand_id\"] = ordlns_df[\"sku\"].str[:3]"
   ]
  },
  {
   "cell_type": "markdown",
   "metadata": {
    "id": "-Id8fYPkAyqK"
   },
   "source": [
    "__Unit price:__ exploring data further revealed that a \".\" symbol was used for both decimal and digit group separation. Thus, values > 999.99 cannot easily be converted to floats. Initial regex manipulation was required."
   ]
  },
  {
   "cell_type": "code",
   "execution_count": 20,
   "metadata": {
    "id": "tCdCVQGn1Xa3"
   },
   "outputs": [],
   "source": [
    "tmp = ordlns_df[\"unit_price\"].str.replace(\"(^\\d*)\\.(\\d*\\.\\d\\d$)\", \"\\\\1\\\\2\", regex = True)\n",
    "ordlns_df[\"unit_price\"] = pd.to_numeric(tmp)"
   ]
  },
  {
   "cell_type": "code",
   "execution_count": 21,
   "metadata": {
    "colab": {
     "base_uri": "https://localhost:8080/"
    },
    "id": "jYQ0OuYiF0T5",
    "outputId": "c7e09a8c-bda8-44a2-c34c-9d1f49e80a07"
   },
   "outputs": [
    {
     "name": "stdout",
     "output_type": "stream",
     "text": [
      "<class 'pandas.core.frame.DataFrame'>\n",
      "RangeIndex: 293983 entries, 0 to 293982\n",
      "Data columns (total 7 columns):\n",
      " #   Column            Non-Null Count   Dtype         \n",
      "---  ------            --------------   -----         \n",
      " 0   ordln_id          293983 non-null  int64         \n",
      " 1   order_id          293983 non-null  int64         \n",
      " 2   product_quantity  293983 non-null  int64         \n",
      " 3   sku               293983 non-null  object        \n",
      " 4   unit_price        293983 non-null  float64       \n",
      " 5   process_date      293983 non-null  datetime64[ns]\n",
      " 6   brand_id          293983 non-null  object        \n",
      "dtypes: datetime64[ns](1), float64(1), int64(3), object(2)\n",
      "memory usage: 15.7+ MB\n"
     ]
    }
   ],
   "source": [
    "ordlns_df.info()"
   ]
  },
  {
   "cell_type": "markdown",
   "metadata": {
    "id": "00vlKrhwIkNb"
   },
   "source": [
    "## Table Products"
   ]
  },
  {
   "cell_type": "code",
   "execution_count": 22,
   "metadata": {
    "id": "-Wd3fZTKIkNc"
   },
   "outputs": [],
   "source": [
    "products_df = products_org_df.copy()"
   ]
  },
  {
   "cell_type": "code",
   "execution_count": 23,
   "metadata": {
    "colab": {
     "base_uri": "https://localhost:8080/"
    },
    "id": "bfyghW9rIkNd",
    "outputId": "f3591eb0-6526-47a8-d980-e35df756f44c"
   },
   "outputs": [
    {
     "name": "stdout",
     "output_type": "stream",
     "text": [
      "<class 'pandas.core.frame.DataFrame'>\n",
      "RangeIndex: 19326 entries, 0 to 19325\n",
      "Data columns (total 7 columns):\n",
      " #   Column       Non-Null Count  Dtype \n",
      "---  ------       --------------  ----- \n",
      " 0   sku          19326 non-null  object\n",
      " 1   name         19326 non-null  object\n",
      " 2   desc         19319 non-null  object\n",
      " 3   price        19280 non-null  object\n",
      " 4   promo_price  19326 non-null  object\n",
      " 5   in_stock     19326 non-null  int64 \n",
      " 6   type         19276 non-null  object\n",
      "dtypes: int64(1), object(6)\n",
      "memory usage: 1.0+ MB\n"
     ]
    }
   ],
   "source": [
    "products_df.info()"
   ]
  },
  {
   "cell_type": "code",
   "execution_count": 24,
   "metadata": {
    "colab": {
     "base_uri": "https://localhost:8080/",
     "height": 112
    },
    "id": "r1W5fhzOIkNe",
    "outputId": "f432414b-a95f-4c21-c2a6-8e92a51d523a"
   },
   "outputs": [
    {
     "data": {
      "text/html": [
       "<div>\n",
       "<style scoped>\n",
       "    .dataframe tbody tr th:only-of-type {\n",
       "        vertical-align: middle;\n",
       "    }\n",
       "\n",
       "    .dataframe tbody tr th {\n",
       "        vertical-align: top;\n",
       "    }\n",
       "\n",
       "    .dataframe thead th {\n",
       "        text-align: right;\n",
       "    }\n",
       "</style>\n",
       "<table border=\"1\" class=\"dataframe\">\n",
       "  <thead>\n",
       "    <tr style=\"text-align: right;\">\n",
       "      <th></th>\n",
       "      <th>sku</th>\n",
       "      <th>name</th>\n",
       "      <th>desc</th>\n",
       "      <th>price</th>\n",
       "      <th>promo_price</th>\n",
       "      <th>in_stock</th>\n",
       "      <th>type</th>\n",
       "    </tr>\n",
       "  </thead>\n",
       "  <tbody>\n",
       "    <tr>\n",
       "      <th>0</th>\n",
       "      <td>RAI0007</td>\n",
       "      <td>Silver Rain Design mStand Support</td>\n",
       "      <td>Aluminum support compatible with all MacBook</td>\n",
       "      <td>59.99</td>\n",
       "      <td>499.899</td>\n",
       "      <td>1</td>\n",
       "      <td>8696</td>\n",
       "    </tr>\n",
       "    <tr>\n",
       "      <th>1</th>\n",
       "      <td>APP0023</td>\n",
       "      <td>Apple Mac Keyboard Keypad Spanish</td>\n",
       "      <td>USB ultrathin keyboard Apple Mac Spanish.</td>\n",
       "      <td>59</td>\n",
       "      <td>589.996</td>\n",
       "      <td>0</td>\n",
       "      <td>13855401</td>\n",
       "    </tr>\n",
       "  </tbody>\n",
       "</table>\n",
       "</div>"
      ],
      "text/plain": [
       "       sku                               name  \\\n",
       "0  RAI0007  Silver Rain Design mStand Support   \n",
       "1  APP0023  Apple Mac Keyboard Keypad Spanish   \n",
       "\n",
       "                                           desc  price promo_price  in_stock  \\\n",
       "0  Aluminum support compatible with all MacBook  59.99     499.899         1   \n",
       "1     USB ultrathin keyboard Apple Mac Spanish.     59     589.996         0   \n",
       "\n",
       "       type  \n",
       "0      8696  \n",
       "1  13855401  "
      ]
     },
     "execution_count": 24,
     "metadata": {},
     "output_type": "execute_result"
    }
   ],
   "source": [
    "products_df.head(2)"
   ]
  },
  {
   "cell_type": "code",
   "execution_count": 25,
   "metadata": {
    "colab": {
     "base_uri": "https://localhost:8080/",
     "height": 315
    },
    "id": "dC_WkejrIkNf",
    "outputId": "43d0bbca-70c7-4bc1-c209-3214cfd8c02e"
   },
   "outputs": [
    {
     "data": {
      "text/html": [
       "<div>\n",
       "<style scoped>\n",
       "    .dataframe tbody tr th:only-of-type {\n",
       "        vertical-align: middle;\n",
       "    }\n",
       "\n",
       "    .dataframe tbody tr th {\n",
       "        vertical-align: top;\n",
       "    }\n",
       "\n",
       "    .dataframe thead th {\n",
       "        text-align: right;\n",
       "    }\n",
       "</style>\n",
       "<table border=\"1\" class=\"dataframe\">\n",
       "  <thead>\n",
       "    <tr style=\"text-align: right;\">\n",
       "      <th></th>\n",
       "      <th>sku</th>\n",
       "      <th>name</th>\n",
       "      <th>desc</th>\n",
       "      <th>price</th>\n",
       "      <th>promo_price</th>\n",
       "      <th>in_stock</th>\n",
       "      <th>type</th>\n",
       "    </tr>\n",
       "  </thead>\n",
       "  <tbody>\n",
       "    <tr>\n",
       "      <th>19324</th>\n",
       "      <td>THU0062</td>\n",
       "      <td>Enroute Thule 14L Backpack MacBook 13 \"Red</td>\n",
       "      <td>Backpack with capacity of 14 liter compartment...</td>\n",
       "      <td>69.95</td>\n",
       "      <td>649.903</td>\n",
       "      <td>0</td>\n",
       "      <td>1392</td>\n",
       "    </tr>\n",
       "    <tr>\n",
       "      <th>19325</th>\n",
       "      <td>THU0063</td>\n",
       "      <td>Enroute Thule 14L Backpack MacBook 13 \"Green</td>\n",
       "      <td>Backpack with capacity of 14 liter compartment...</td>\n",
       "      <td>69.95</td>\n",
       "      <td>649.903</td>\n",
       "      <td>1</td>\n",
       "      <td>1392</td>\n",
       "    </tr>\n",
       "  </tbody>\n",
       "</table>\n",
       "</div>"
      ],
      "text/plain": [
       "           sku                                          name  \\\n",
       "19324  THU0062    Enroute Thule 14L Backpack MacBook 13 \"Red   \n",
       "19325  THU0063  Enroute Thule 14L Backpack MacBook 13 \"Green   \n",
       "\n",
       "                                                    desc  price promo_price  \\\n",
       "19324  Backpack with capacity of 14 liter compartment...  69.95     649.903   \n",
       "19325  Backpack with capacity of 14 liter compartment...  69.95     649.903   \n",
       "\n",
       "       in_stock  type  \n",
       "19324         0  1392  \n",
       "19325         1  1392  "
      ]
     },
     "execution_count": 25,
     "metadata": {},
     "output_type": "execute_result"
    }
   ],
   "source": [
    "products_df.tail(2)"
   ]
  },
  {
   "cell_type": "code",
   "execution_count": 26,
   "metadata": {
    "colab": {
     "base_uri": "https://localhost:8080/"
    },
    "id": "m_zEHuV1IkNf",
    "outputId": "2270cce3-f432-4bed-e5e9-aeab04957846"
   },
   "outputs": [
    {
     "data": {
      "text/plain": [
       "8746"
      ]
     },
     "execution_count": 26,
     "metadata": {},
     "output_type": "execute_result"
    }
   ],
   "source": [
    "products_df.duplicated().sum()"
   ]
  },
  {
   "cell_type": "code",
   "execution_count": 27,
   "metadata": {
    "colab": {
     "base_uri": "https://localhost:8080/"
    },
    "id": "7xD_-iyPIkNg",
    "outputId": "b4efcdf9-63ce-4090-cece-798d53931900"
   },
   "outputs": [
    {
     "data": {
      "text/plain": [
       "8747"
      ]
     },
     "execution_count": 27,
     "metadata": {},
     "output_type": "execute_result"
    }
   ],
   "source": [
    "products_df[\"sku\"].duplicated().sum()"
   ]
  },
  {
   "cell_type": "code",
   "execution_count": 28,
   "metadata": {
    "colab": {
     "base_uri": "https://localhost:8080/",
     "height": 194
    },
    "id": "cru8DIj4IkNh",
    "outputId": "5f58b741-ea1a-47e8-d636-65fc1956c398"
   },
   "outputs": [
    {
     "data": {
      "text/html": [
       "<div>\n",
       "<style scoped>\n",
       "    .dataframe tbody tr th:only-of-type {\n",
       "        vertical-align: middle;\n",
       "    }\n",
       "\n",
       "    .dataframe tbody tr th {\n",
       "        vertical-align: top;\n",
       "    }\n",
       "\n",
       "    .dataframe thead th {\n",
       "        text-align: right;\n",
       "    }\n",
       "</style>\n",
       "<table border=\"1\" class=\"dataframe\">\n",
       "  <thead>\n",
       "    <tr style=\"text-align: right;\">\n",
       "      <th></th>\n",
       "      <th>sku</th>\n",
       "      <th>name</th>\n",
       "      <th>desc</th>\n",
       "      <th>price</th>\n",
       "      <th>promo_price</th>\n",
       "      <th>in_stock</th>\n",
       "      <th>type</th>\n",
       "    </tr>\n",
       "  </thead>\n",
       "  <tbody>\n",
       "    <tr>\n",
       "      <th>Number of NaNs</th>\n",
       "      <td>0.0</td>\n",
       "      <td>0.0</td>\n",
       "      <td>7.000</td>\n",
       "      <td>46.000</td>\n",
       "      <td>0.0</td>\n",
       "      <td>0.0</td>\n",
       "      <td>50.000</td>\n",
       "    </tr>\n",
       "    <tr>\n",
       "      <th>% NaNs</th>\n",
       "      <td>0.0</td>\n",
       "      <td>0.0</td>\n",
       "      <td>0.036</td>\n",
       "      <td>0.239</td>\n",
       "      <td>0.0</td>\n",
       "      <td>0.0</td>\n",
       "      <td>0.259</td>\n",
       "    </tr>\n",
       "  </tbody>\n",
       "</table>\n",
       "</div>"
      ],
      "text/plain": [
       "                sku  name   desc   price  promo_price  in_stock    type\n",
       "Number of NaNs  0.0   0.0  7.000  46.000          0.0       0.0  50.000\n",
       "% NaNs          0.0   0.0  0.036   0.239          0.0       0.0   0.259"
      ]
     },
     "execution_count": 28,
     "metadata": {},
     "output_type": "execute_result"
    }
   ],
   "source": [
    "products_df.apply(lambda x: pd.Series([x.isna().sum(), round((x.isna().sum()/x.count())*100, 3)], index = [\"Number of NaNs\", \"% NaNs\"]), axis = 0)"
   ]
  },
  {
   "cell_type": "markdown",
   "metadata": {
    "id": "4DnaDwgSIkNi"
   },
   "source": [
    "### Requried Cleanup:\n",
    "* remove duplicated rows\n",
    "* check/ remove duplicated sku\n",
    "* remove products with missing prices\n",
    "* convert \"price\" to float\n",
    "* convert \"promo_price\" to float\n",
    "* create a \"brand_id\" (first three chars of the \"sku\")"
   ]
  },
  {
   "cell_type": "code",
   "execution_count": 29,
   "metadata": {
    "id": "Cc4o5EA3IkNi"
   },
   "outputs": [],
   "source": [
    "products_df.drop_duplicates(inplace = True)\n",
    "products_df.loc[:,\"brand_id\"] = products_df[\"sku\"].str[:3]"
   ]
  },
  {
   "cell_type": "markdown",
   "metadata": {
    "id": "87MtszdsIkNi"
   },
   "source": [
    "__Price:__ The price column contains some missing values and values that have three decimal places instead of the expected two. Removel of the respective rows from the table resulted in a data loss of ~5.5%"
   ]
  },
  {
   "cell_type": "code",
   "execution_count": 30,
   "metadata": {
    "id": "Dl8bK8QG9K77"
   },
   "outputs": [],
   "source": [
    "products_df = products_df.loc[~products_df[\"price\"].isna(),:]\n",
    "products_df = products_df.loc[~products_df[\"price\"].str.contains(\"\\.\\d\\d\\d$\"),:]\n",
    "products_df[\"price\"] = pd.to_numeric(products_df[\"price\"])"
   ]
  },
  {
   "cell_type": "code",
   "execution_count": 31,
   "metadata": {
    "colab": {
     "base_uri": "https://localhost:8080/"
    },
    "id": "cAP-Gw2J_cJm",
    "outputId": "1b97ec9e-ea3f-4fbd-f874-e03b8ecf7516"
   },
   "outputs": [
    {
     "data": {
      "text/plain": [
       "0.0555765595463138"
      ]
     },
     "execution_count": 31,
     "metadata": {},
     "output_type": "execute_result"
    }
   ],
   "source": [
    "new_rows = products_df.shape[0]\n",
    "old_rows = products_org_df.drop_duplicates().shape[0]\n",
    "1 - new_rows/old_rows"
   ]
  },
  {
   "cell_type": "markdown",
   "metadata": {
    "id": "a-XfM8JPMDWd"
   },
   "source": [
    "__Promo_Price:__ The promo_price column contained a lot of corrupted values. After some further exploration a decision was made that these values cannot be fixed reliably and the column was not used for further analysis."
   ]
  },
  {
   "cell_type": "code",
   "execution_count": 32,
   "metadata": {
    "colab": {
     "base_uri": "https://localhost:8080/"
    },
    "id": "1wA7gr6RMbcc",
    "outputId": "1af83644-60c6-46a9-aaab-56aa4acff39a"
   },
   "outputs": [
    {
     "name": "stdout",
     "output_type": "stream",
     "text": [
      "Corrupted values in promo_price: 4307, 43.104 %\n"
     ]
    }
   ],
   "source": [
    "converted_to_numeric = ~pd.to_numeric(products_df['promo_price'], errors=\"coerce\").isna()\n",
    "print(f\"Corrupted values in promo_price: {sum(~converted_to_numeric)}, {round(sum(~converted_to_numeric)/products_df['sku'].count()*100,3)} %\")\n",
    "products_df.drop(columns = \"promo_price\", inplace = True)"
   ]
  },
  {
   "cell_type": "code",
   "execution_count": 33,
   "metadata": {
    "colab": {
     "base_uri": "https://localhost:8080/"
    },
    "id": "uAQPgrxvIkNj",
    "outputId": "7bce43b5-f1a6-4140-db23-f9a5b702df4a"
   },
   "outputs": [
    {
     "name": "stdout",
     "output_type": "stream",
     "text": [
      "<class 'pandas.core.frame.DataFrame'>\n",
      "Index: 9992 entries, 0 to 19325\n",
      "Data columns (total 7 columns):\n",
      " #   Column    Non-Null Count  Dtype  \n",
      "---  ------    --------------  -----  \n",
      " 0   sku       9992 non-null   object \n",
      " 1   name      9992 non-null   object \n",
      " 2   desc      9986 non-null   object \n",
      " 3   price     9992 non-null   float64\n",
      " 4   in_stock  9992 non-null   int64  \n",
      " 5   type      9946 non-null   object \n",
      " 6   brand_id  9992 non-null   object \n",
      "dtypes: float64(1), int64(1), object(5)\n",
      "memory usage: 624.5+ KB\n"
     ]
    }
   ],
   "source": [
    "products_df.info()"
   ]
  },
  {
   "cell_type": "markdown",
   "metadata": {
    "id": "lrjc0ofeOEfv"
   },
   "source": [
    "## Table Brands"
   ]
  },
  {
   "cell_type": "code",
   "execution_count": 34,
   "metadata": {
    "id": "ne4K48P_OEfy"
   },
   "outputs": [],
   "source": [
    "brands_df = brands_org_df.copy()"
   ]
  },
  {
   "cell_type": "code",
   "execution_count": 35,
   "metadata": {
    "colab": {
     "base_uri": "https://localhost:8080/"
    },
    "id": "wa5iBGq-OEfz",
    "outputId": "40a677ce-5592-45d7-dc16-a1464971e055"
   },
   "outputs": [
    {
     "name": "stdout",
     "output_type": "stream",
     "text": [
      "<class 'pandas.core.frame.DataFrame'>\n",
      "RangeIndex: 187 entries, 0 to 186\n",
      "Data columns (total 2 columns):\n",
      " #   Column  Non-Null Count  Dtype \n",
      "---  ------  --------------  ----- \n",
      " 0   short   187 non-null    object\n",
      " 1   long    187 non-null    object\n",
      "dtypes: object(2)\n",
      "memory usage: 3.0+ KB\n"
     ]
    }
   ],
   "source": [
    "brands_df.info()"
   ]
  },
  {
   "cell_type": "code",
   "execution_count": 36,
   "metadata": {
    "colab": {
     "base_uri": "https://localhost:8080/",
     "height": 176
    },
    "id": "sKv4svAfOEf0",
    "outputId": "cf93ba0d-9b83-42ba-f54a-578fd86c3868"
   },
   "outputs": [
    {
     "data": {
      "text/html": [
       "<div>\n",
       "<style scoped>\n",
       "    .dataframe tbody tr th:only-of-type {\n",
       "        vertical-align: middle;\n",
       "    }\n",
       "\n",
       "    .dataframe tbody tr th {\n",
       "        vertical-align: top;\n",
       "    }\n",
       "\n",
       "    .dataframe thead th {\n",
       "        text-align: right;\n",
       "    }\n",
       "</style>\n",
       "<table border=\"1\" class=\"dataframe\">\n",
       "  <thead>\n",
       "    <tr style=\"text-align: right;\">\n",
       "      <th></th>\n",
       "      <th>short</th>\n",
       "      <th>long</th>\n",
       "    </tr>\n",
       "  </thead>\n",
       "  <tbody>\n",
       "    <tr>\n",
       "      <th>0</th>\n",
       "      <td>8MO</td>\n",
       "      <td>8Mobility</td>\n",
       "    </tr>\n",
       "    <tr>\n",
       "      <th>1</th>\n",
       "      <td>ACM</td>\n",
       "      <td>Acme</td>\n",
       "    </tr>\n",
       "  </tbody>\n",
       "</table>\n",
       "</div>"
      ],
      "text/plain": [
       "  short       long\n",
       "0   8MO  8Mobility\n",
       "1   ACM       Acme"
      ]
     },
     "execution_count": 36,
     "metadata": {},
     "output_type": "execute_result"
    }
   ],
   "source": [
    "brands_df.head(2)"
   ]
  },
  {
   "cell_type": "code",
   "execution_count": 37,
   "metadata": {
    "colab": {
     "base_uri": "https://localhost:8080/",
     "height": 176
    },
    "id": "p-OSs23KOEf0",
    "outputId": "f326ceb8-8943-4cbe-b9b6-866a757a0b57"
   },
   "outputs": [
    {
     "data": {
      "text/html": [
       "<div>\n",
       "<style scoped>\n",
       "    .dataframe tbody tr th:only-of-type {\n",
       "        vertical-align: middle;\n",
       "    }\n",
       "\n",
       "    .dataframe tbody tr th {\n",
       "        vertical-align: top;\n",
       "    }\n",
       "\n",
       "    .dataframe thead th {\n",
       "        text-align: right;\n",
       "    }\n",
       "</style>\n",
       "<table border=\"1\" class=\"dataframe\">\n",
       "  <thead>\n",
       "    <tr style=\"text-align: right;\">\n",
       "      <th></th>\n",
       "      <th>short</th>\n",
       "      <th>long</th>\n",
       "    </tr>\n",
       "  </thead>\n",
       "  <tbody>\n",
       "    <tr>\n",
       "      <th>185</th>\n",
       "      <td>ZAG</td>\n",
       "      <td>ZaggKeys</td>\n",
       "    </tr>\n",
       "    <tr>\n",
       "      <th>186</th>\n",
       "      <td>ZEP</td>\n",
       "      <td>Zepp</td>\n",
       "    </tr>\n",
       "  </tbody>\n",
       "</table>\n",
       "</div>"
      ],
      "text/plain": [
       "    short      long\n",
       "185   ZAG  ZaggKeys\n",
       "186   ZEP      Zepp"
      ]
     },
     "execution_count": 37,
     "metadata": {},
     "output_type": "execute_result"
    }
   ],
   "source": [
    "brands_df.tail(2)"
   ]
  },
  {
   "cell_type": "code",
   "execution_count": 38,
   "metadata": {
    "colab": {
     "base_uri": "https://localhost:8080/"
    },
    "id": "zLhLwdMEOEf2",
    "outputId": "9129d13f-8844-4494-dd73-8577d08d3ed1"
   },
   "outputs": [
    {
     "data": {
      "text/plain": [
       "0"
      ]
     },
     "execution_count": 38,
     "metadata": {},
     "output_type": "execute_result"
    }
   ],
   "source": [
    "brands_df.duplicated().sum()"
   ]
  },
  {
   "cell_type": "code",
   "execution_count": 39,
   "metadata": {
    "colab": {
     "base_uri": "https://localhost:8080/"
    },
    "id": "m1cedqPoOEf4",
    "outputId": "edd6d539-8a0e-4cb9-b405-af4896f1cbb4"
   },
   "outputs": [
    {
     "data": {
      "text/plain": [
       "short    187\n",
       "long     181\n",
       "dtype: int64"
      ]
     },
     "execution_count": 39,
     "metadata": {},
     "output_type": "execute_result"
    }
   ],
   "source": [
    "brands_df.nunique()"
   ]
  },
  {
   "cell_type": "code",
   "execution_count": 40,
   "metadata": {
    "colab": {
     "base_uri": "https://localhost:8080/",
     "height": 490
    },
    "id": "c_euQAnT6yGg",
    "outputId": "9952ac0d-86e1-4b98-c370-b77cfd2b473f"
   },
   "outputs": [
    {
     "data": {
      "text/html": [
       "<div>\n",
       "<style scoped>\n",
       "    .dataframe tbody tr th:only-of-type {\n",
       "        vertical-align: middle;\n",
       "    }\n",
       "\n",
       "    .dataframe tbody tr th {\n",
       "        vertical-align: top;\n",
       "    }\n",
       "\n",
       "    .dataframe thead th {\n",
       "        text-align: right;\n",
       "    }\n",
       "</style>\n",
       "<table border=\"1\" class=\"dataframe\">\n",
       "  <thead>\n",
       "    <tr style=\"text-align: right;\">\n",
       "      <th></th>\n",
       "      <th>short</th>\n",
       "      <th>long</th>\n",
       "    </tr>\n",
       "  </thead>\n",
       "  <tbody>\n",
       "    <tr>\n",
       "      <th>6</th>\n",
       "      <td>AP2</td>\n",
       "      <td>Apple</td>\n",
       "    </tr>\n",
       "    <tr>\n",
       "      <th>7</th>\n",
       "      <td>APP</td>\n",
       "      <td>Apple</td>\n",
       "    </tr>\n",
       "    <tr>\n",
       "      <th>17</th>\n",
       "      <td>BOS</td>\n",
       "      <td>Bose</td>\n",
       "    </tr>\n",
       "    <tr>\n",
       "      <th>19</th>\n",
       "      <td>CAD</td>\n",
       "      <td>Bose</td>\n",
       "    </tr>\n",
       "    <tr>\n",
       "      <th>37</th>\n",
       "      <td>ENV</td>\n",
       "      <td>Unknown</td>\n",
       "    </tr>\n",
       "    <tr>\n",
       "      <th>67</th>\n",
       "      <td>JYB</td>\n",
       "      <td>Jaybird</td>\n",
       "    </tr>\n",
       "    <tr>\n",
       "      <th>70</th>\n",
       "      <td>KEN</td>\n",
       "      <td>Jaybird</td>\n",
       "    </tr>\n",
       "    <tr>\n",
       "      <th>80</th>\n",
       "      <td>LIB</td>\n",
       "      <td>Unknown</td>\n",
       "    </tr>\n",
       "    <tr>\n",
       "      <th>94</th>\n",
       "      <td>MOP</td>\n",
       "      <td>Mophie</td>\n",
       "    </tr>\n",
       "    <tr>\n",
       "      <th>98</th>\n",
       "      <td>MUJ</td>\n",
       "      <td>Mophie</td>\n",
       "    </tr>\n",
       "    <tr>\n",
       "      <th>117</th>\n",
       "      <td>OTR</td>\n",
       "      <td>Startech</td>\n",
       "    </tr>\n",
       "    <tr>\n",
       "      <th>153</th>\n",
       "      <td>STA</td>\n",
       "      <td>Startech</td>\n",
       "    </tr>\n",
       "  </tbody>\n",
       "</table>\n",
       "</div>"
      ],
      "text/plain": [
       "    short      long\n",
       "6     AP2     Apple\n",
       "7     APP     Apple\n",
       "17    BOS      Bose\n",
       "19    CAD      Bose\n",
       "37    ENV   Unknown\n",
       "67    JYB   Jaybird\n",
       "70    KEN   Jaybird\n",
       "80    LIB   Unknown\n",
       "94    MOP    Mophie\n",
       "98    MUJ    Mophie\n",
       "117   OTR  Startech\n",
       "153   STA  Startech"
      ]
     },
     "execution_count": 40,
     "metadata": {},
     "output_type": "execute_result"
    }
   ],
   "source": [
    "brands_df.loc[brands_df[\"long\"].isin(brands_df.loc[brands_df[\"long\"].duplicated(),\"long\"]),:]"
   ]
  },
  {
   "cell_type": "code",
   "execution_count": 41,
   "metadata": {
    "colab": {
     "base_uri": "https://localhost:8080/",
     "height": 194
    },
    "id": "f5WeWpQ6OEf5",
    "outputId": "c0fcdbbb-de13-4512-c04d-3f5da92d3c71"
   },
   "outputs": [
    {
     "data": {
      "text/html": [
       "<div>\n",
       "<style scoped>\n",
       "    .dataframe tbody tr th:only-of-type {\n",
       "        vertical-align: middle;\n",
       "    }\n",
       "\n",
       "    .dataframe tbody tr th {\n",
       "        vertical-align: top;\n",
       "    }\n",
       "\n",
       "    .dataframe thead th {\n",
       "        text-align: right;\n",
       "    }\n",
       "</style>\n",
       "<table border=\"1\" class=\"dataframe\">\n",
       "  <thead>\n",
       "    <tr style=\"text-align: right;\">\n",
       "      <th></th>\n",
       "      <th>short</th>\n",
       "      <th>long</th>\n",
       "    </tr>\n",
       "  </thead>\n",
       "  <tbody>\n",
       "    <tr>\n",
       "      <th>Number of NaNs</th>\n",
       "      <td>0.0</td>\n",
       "      <td>0.0</td>\n",
       "    </tr>\n",
       "    <tr>\n",
       "      <th>% NaNs</th>\n",
       "      <td>0.0</td>\n",
       "      <td>0.0</td>\n",
       "    </tr>\n",
       "  </tbody>\n",
       "</table>\n",
       "</div>"
      ],
      "text/plain": [
       "                short  long\n",
       "Number of NaNs    0.0   0.0\n",
       "% NaNs            0.0   0.0"
      ]
     },
     "execution_count": 41,
     "metadata": {},
     "output_type": "execute_result"
    }
   ],
   "source": [
    "brands_df.apply(lambda x: pd.Series([x.isna().sum(), round((x.isna().sum()/x.count())*100, 3)], index = [\"Number of NaNs\", \"% NaNs\"]), axis = 0)"
   ]
  },
  {
   "cell_type": "markdown",
   "metadata": {
    "id": "QDLySfAGOEf5"
   },
   "source": [
    "### Requried Cleanup:\n",
    "* rename brand columns to more descriptive (short = brand_id, long = brand_name)\n",
    "* some brand names have multiple ids -> fix here, aswell as in the respective columns of the product and order_line table"
   ]
  },
  {
   "cell_type": "code",
   "execution_count": 43,
   "metadata": {
    "colab": {
     "base_uri": "https://localhost:8080/",
     "height": 206
    },
    "id": "lfp-43v3OEf6",
    "outputId": "bbe30944-1877-42fe-99fe-654fe9741c1b"
   },
   "outputs": [
    {
     "data": {
      "text/html": [
       "<div>\n",
       "<style scoped>\n",
       "    .dataframe tbody tr th:only-of-type {\n",
       "        vertical-align: middle;\n",
       "    }\n",
       "\n",
       "    .dataframe tbody tr th {\n",
       "        vertical-align: top;\n",
       "    }\n",
       "\n",
       "    .dataframe thead th {\n",
       "        text-align: right;\n",
       "    }\n",
       "</style>\n",
       "<table border=\"1\" class=\"dataframe\">\n",
       "  <thead>\n",
       "    <tr style=\"text-align: right;\">\n",
       "      <th></th>\n",
       "      <th>brand_id</th>\n",
       "      <th>brand_name</th>\n",
       "    </tr>\n",
       "  </thead>\n",
       "  <tbody>\n",
       "    <tr>\n",
       "      <th>0</th>\n",
       "      <td>8MO</td>\n",
       "      <td>8Mobility</td>\n",
       "    </tr>\n",
       "    <tr>\n",
       "      <th>1</th>\n",
       "      <td>ACM</td>\n",
       "      <td>Acme</td>\n",
       "    </tr>\n",
       "    <tr>\n",
       "      <th>2</th>\n",
       "      <td>ADN</td>\n",
       "      <td>Adonit</td>\n",
       "    </tr>\n",
       "    <tr>\n",
       "      <th>3</th>\n",
       "      <td>AII</td>\n",
       "      <td>Aiino</td>\n",
       "    </tr>\n",
       "    <tr>\n",
       "      <th>4</th>\n",
       "      <td>AKI</td>\n",
       "      <td>Akitio</td>\n",
       "    </tr>\n",
       "  </tbody>\n",
       "</table>\n",
       "</div>"
      ],
      "text/plain": [
       "  brand_id brand_name\n",
       "0      8MO  8Mobility\n",
       "1      ACM       Acme\n",
       "2      ADN     Adonit\n",
       "3      AII      Aiino\n",
       "4      AKI     Akitio"
      ]
     },
     "execution_count": 43,
     "metadata": {},
     "output_type": "execute_result"
    }
   ],
   "source": [
    "brands_df.rename(columns = {\"short\":\"brand_id\",\"long\":\"brand_name\"}, inplace = True)\n",
    "brands_df.head()"
   ]
  },
  {
   "cell_type": "code",
   "execution_count": 44,
   "metadata": {
    "id": "dNh4OO_d7f_8"
   },
   "outputs": [],
   "source": [
    "# fixing barnd ids (also in products and orderlines)\n",
    "brand_dict = {\"AP2\": \"APP\", \"CAD\": \"BOS\", \"LIB\": \"ENV\", \"KEN\" : \"JAY\", \"MUJ\": \"MOP\", \"OTR\":\"STA\"}\n",
    "brand_li = {\"AP2\", \"CAD\", \"LIB\", \"KEN\", \"MUJ\", \"OTR\"}\n",
    "brands_df.drop(brands_df.loc[brands_df[\"brand_id\"].isin(brand_li),:].index, inplace = True)\n",
    "ordlns_df[\"brand_id\"].replace(brand_dict, inplace = True)\n",
    "products_df[\"brand_id\"].replace(brand_dict, inplace = True)"
   ]
  },
  {
   "cell_type": "code",
   "execution_count": 45,
   "metadata": {
    "colab": {
     "base_uri": "https://localhost:8080/"
    },
    "id": "cJaRqWsv_oPM",
    "outputId": "69b26985-5a52-4bfe-9abd-4f5e422f491c"
   },
   "outputs": [
    {
     "data": {
      "text/plain": [
       "brand_id      181\n",
       "brand_name    181\n",
       "dtype: int64"
      ]
     },
     "execution_count": 45,
     "metadata": {},
     "output_type": "execute_result"
    }
   ],
   "source": [
    "brands_df.nunique()"
   ]
  },
  {
   "cell_type": "markdown",
   "metadata": {
    "id": "VMdwjwfqAnIJ"
   },
   "source": [
    "# Further data quality exploration"
   ]
  },
  {
   "cell_type": "markdown",
   "metadata": {
    "id": "P58Qe83rGWgJ"
   },
   "source": [
    "## Incomplete orders & flawed entries in orders"
   ]
  },
  {
   "cell_type": "code",
   "execution_count": 46,
   "metadata": {
    "id": "d4o8hlMiGUBM"
   },
   "outputs": [],
   "source": [
    "orders_df = orders_df.loc[orders_df[\"state\"] == \"Completed\",:]"
   ]
  },
  {
   "cell_type": "markdown",
   "metadata": {
    "id": "wRZS6mSlKUv1"
   },
   "source": [
    "cases with order quantity 999 were suspected to be machine errors and removed"
   ]
  },
  {
   "cell_type": "code",
   "execution_count": 47,
   "metadata": {
    "colab": {
     "base_uri": "https://localhost:8080/"
    },
    "id": "a7srBavqOTyg",
    "outputId": "901ba152-c72c-4398-c51c-8fbd65670b72"
   },
   "outputs": [
    {
     "data": {
      "text/plain": [
       "count    293983.000000\n",
       "mean          1.121126\n",
       "std           3.396569\n",
       "min           1.000000\n",
       "25%           1.000000\n",
       "50%           1.000000\n",
       "75%           1.000000\n",
       "max         999.000000\n",
       "Name: product_quantity, dtype: float64"
      ]
     },
     "execution_count": 47,
     "metadata": {},
     "output_type": "execute_result"
    }
   ],
   "source": [
    "ordlns_df[\"product_quantity\"].describe()"
   ]
  },
  {
   "cell_type": "code",
   "execution_count": 48,
   "metadata": {
    "id": "LDwTm7gMKb_f"
   },
   "outputs": [],
   "source": [
    "high_quantity_order = ordlns_df.loc[ordlns_df[\"product_quantity\"] == 999,\"order_id\"].unique()\n",
    "ordlns_df = ordlns_df.loc[~ordlns_df[\"order_id\"].isin(high_quantity_order),:]"
   ]
  },
  {
   "cell_type": "code",
   "execution_count": null,
   "metadata": {
    "colab": {
     "base_uri": "https://localhost:8080/",
     "height": 206
    },
    "id": "IzUG3Qc0L6gN",
    "outputId": "20692965-af8c-44b4-f4a3-8acc8d8cc449"
   },
   "outputs": [
    {
     "data": {
      "text/html": [
       "\n",
       "  <div id=\"df-a9b7c0ab-a6d4-4138-b034-4329f47b8161\">\n",
       "    <div class=\"colab-df-container\">\n",
       "      <div>\n",
       "<style scoped>\n",
       "    .dataframe tbody tr th:only-of-type {\n",
       "        vertical-align: middle;\n",
       "    }\n",
       "\n",
       "    .dataframe tbody tr th {\n",
       "        vertical-align: top;\n",
       "    }\n",
       "\n",
       "    .dataframe thead th {\n",
       "        text-align: right;\n",
       "    }\n",
       "</style>\n",
       "<table border=\"1\" class=\"dataframe\">\n",
       "  <thead>\n",
       "    <tr style=\"text-align: right;\">\n",
       "      <th></th>\n",
       "      <th>ordln_id</th>\n",
       "      <th>order_id</th>\n",
       "      <th>product_quantity</th>\n",
       "      <th>sku</th>\n",
       "      <th>unit_price</th>\n",
       "      <th>process_date</th>\n",
       "      <th>brand_id</th>\n",
       "    </tr>\n",
       "  </thead>\n",
       "  <tbody>\n",
       "    <tr>\n",
       "      <th>0</th>\n",
       "      <td>1119109</td>\n",
       "      <td>299539</td>\n",
       "      <td>1</td>\n",
       "      <td>OTT0133</td>\n",
       "      <td>18.99</td>\n",
       "      <td>2017-01-01 00:07:19</td>\n",
       "      <td>OTT</td>\n",
       "    </tr>\n",
       "    <tr>\n",
       "      <th>1</th>\n",
       "      <td>1119110</td>\n",
       "      <td>299540</td>\n",
       "      <td>1</td>\n",
       "      <td>LGE0043</td>\n",
       "      <td>399.00</td>\n",
       "      <td>2017-01-01 00:19:45</td>\n",
       "      <td>LGE</td>\n",
       "    </tr>\n",
       "    <tr>\n",
       "      <th>2</th>\n",
       "      <td>1119111</td>\n",
       "      <td>299541</td>\n",
       "      <td>1</td>\n",
       "      <td>PAR0071</td>\n",
       "      <td>474.05</td>\n",
       "      <td>2017-01-01 00:20:57</td>\n",
       "      <td>PAR</td>\n",
       "    </tr>\n",
       "    <tr>\n",
       "      <th>3</th>\n",
       "      <td>1119112</td>\n",
       "      <td>299542</td>\n",
       "      <td>1</td>\n",
       "      <td>WDT0315</td>\n",
       "      <td>68.39</td>\n",
       "      <td>2017-01-01 00:51:40</td>\n",
       "      <td>WDT</td>\n",
       "    </tr>\n",
       "    <tr>\n",
       "      <th>4</th>\n",
       "      <td>1119113</td>\n",
       "      <td>299543</td>\n",
       "      <td>1</td>\n",
       "      <td>JBL0104</td>\n",
       "      <td>23.74</td>\n",
       "      <td>2017-01-01 01:06:38</td>\n",
       "      <td>JBL</td>\n",
       "    </tr>\n",
       "  </tbody>\n",
       "</table>\n",
       "</div>\n",
       "      <button class=\"colab-df-convert\" onclick=\"convertToInteractive('df-a9b7c0ab-a6d4-4138-b034-4329f47b8161')\"\n",
       "              title=\"Convert this dataframe to an interactive table.\"\n",
       "              style=\"display:none;\">\n",
       "        \n",
       "  <svg xmlns=\"http://www.w3.org/2000/svg\" height=\"24px\"viewBox=\"0 0 24 24\"\n",
       "       width=\"24px\">\n",
       "    <path d=\"M0 0h24v24H0V0z\" fill=\"none\"/>\n",
       "    <path d=\"M18.56 5.44l.94 2.06.94-2.06 2.06-.94-2.06-.94-.94-2.06-.94 2.06-2.06.94zm-11 1L8.5 8.5l.94-2.06 2.06-.94-2.06-.94L8.5 2.5l-.94 2.06-2.06.94zm10 10l.94 2.06.94-2.06 2.06-.94-2.06-.94-.94-2.06-.94 2.06-2.06.94z\"/><path d=\"M17.41 7.96l-1.37-1.37c-.4-.4-.92-.59-1.43-.59-.52 0-1.04.2-1.43.59L10.3 9.45l-7.72 7.72c-.78.78-.78 2.05 0 2.83L4 21.41c.39.39.9.59 1.41.59.51 0 1.02-.2 1.41-.59l7.78-7.78 2.81-2.81c.8-.78.8-2.07 0-2.86zM5.41 20L4 18.59l7.72-7.72 1.47 1.35L5.41 20z\"/>\n",
       "  </svg>\n",
       "      </button>\n",
       "      \n",
       "  <style>\n",
       "    .colab-df-container {\n",
       "      display:flex;\n",
       "      flex-wrap:wrap;\n",
       "      gap: 12px;\n",
       "    }\n",
       "\n",
       "    .colab-df-convert {\n",
       "      background-color: #E8F0FE;\n",
       "      border: none;\n",
       "      border-radius: 50%;\n",
       "      cursor: pointer;\n",
       "      display: none;\n",
       "      fill: #1967D2;\n",
       "      height: 32px;\n",
       "      padding: 0 0 0 0;\n",
       "      width: 32px;\n",
       "    }\n",
       "\n",
       "    .colab-df-convert:hover {\n",
       "      background-color: #E2EBFA;\n",
       "      box-shadow: 0px 1px 2px rgba(60, 64, 67, 0.3), 0px 1px 3px 1px rgba(60, 64, 67, 0.15);\n",
       "      fill: #174EA6;\n",
       "    }\n",
       "\n",
       "    [theme=dark] .colab-df-convert {\n",
       "      background-color: #3B4455;\n",
       "      fill: #D2E3FC;\n",
       "    }\n",
       "\n",
       "    [theme=dark] .colab-df-convert:hover {\n",
       "      background-color: #434B5C;\n",
       "      box-shadow: 0px 1px 3px 1px rgba(0, 0, 0, 0.15);\n",
       "      filter: drop-shadow(0px 1px 2px rgba(0, 0, 0, 0.3));\n",
       "      fill: #FFFFFF;\n",
       "    }\n",
       "  </style>\n",
       "\n",
       "      <script>\n",
       "        const buttonEl =\n",
       "          document.querySelector('#df-a9b7c0ab-a6d4-4138-b034-4329f47b8161 button.colab-df-convert');\n",
       "        buttonEl.style.display =\n",
       "          google.colab.kernel.accessAllowed ? 'block' : 'none';\n",
       "\n",
       "        async function convertToInteractive(key) {\n",
       "          const element = document.querySelector('#df-a9b7c0ab-a6d4-4138-b034-4329f47b8161');\n",
       "          const dataTable =\n",
       "            await google.colab.kernel.invokeFunction('convertToInteractive',\n",
       "                                                     [key], {});\n",
       "          if (!dataTable) return;\n",
       "\n",
       "          const docLinkHtml = 'Like what you see? Visit the ' +\n",
       "            '<a target=\"_blank\" href=https://colab.research.google.com/notebooks/data_table.ipynb>data table notebook</a>'\n",
       "            + ' to learn more about interactive tables.';\n",
       "          element.innerHTML = '';\n",
       "          dataTable['output_type'] = 'display_data';\n",
       "          await google.colab.output.renderOutput(dataTable, element);\n",
       "          const docLink = document.createElement('div');\n",
       "          docLink.innerHTML = docLinkHtml;\n",
       "          element.appendChild(docLink);\n",
       "        }\n",
       "      </script>\n",
       "    </div>\n",
       "  </div>\n",
       "  "
      ],
      "text/plain": [
       "   ordln_id  order_id  product_quantity      sku  unit_price  \\\n",
       "0   1119109    299539                 1  OTT0133       18.99   \n",
       "1   1119110    299540                 1  LGE0043      399.00   \n",
       "2   1119111    299541                 1  PAR0071      474.05   \n",
       "3   1119112    299542                 1  WDT0315       68.39   \n",
       "4   1119113    299543                 1  JBL0104       23.74   \n",
       "\n",
       "         process_date brand_id  \n",
       "0 2017-01-01 00:07:19      OTT  \n",
       "1 2017-01-01 00:19:45      LGE  \n",
       "2 2017-01-01 00:20:57      PAR  \n",
       "3 2017-01-01 00:51:40      WDT  \n",
       "4 2017-01-01 01:06:38      JBL  "
      ]
     },
     "execution_count": 48,
     "metadata": {},
     "output_type": "execute_result"
    }
   ],
   "source": [
    "ordlns_df.head()"
   ]
  },
  {
   "cell_type": "markdown",
   "metadata": {},
   "source": [
    "cases with negative unit prices were removed from dataset"
   ]
  },
  {
   "cell_type": "code",
   "execution_count": 52,
   "metadata": {
    "colab": {
     "base_uri": "https://localhost:8080/"
    },
    "id": "iadni55AMXF5",
    "outputId": "5f17e594-fcbc-47be-e4aa-f4b986bec3fe"
   },
   "outputs": [
    {
     "data": {
      "text/plain": [
       "count    293972.000000\n",
       "mean        409.807209\n",
       "std         836.978304\n",
       "min        -119.000000\n",
       "25%          35.990000\n",
       "50%          92.990000\n",
       "75%         339.542500\n",
       "max      159989.830000\n",
       "Name: unit_price, dtype: float64"
      ]
     },
     "execution_count": 52,
     "metadata": {},
     "output_type": "execute_result"
    }
   ],
   "source": [
    "ordlns_df[\"unit_price\"].describe()"
   ]
  },
  {
   "cell_type": "code",
   "execution_count": 53,
   "metadata": {
    "id": "SqVACj4xOwBx"
   },
   "outputs": [],
   "source": [
    "neg_unit_price = ordlns_df.loc[ordlns_df[\"unit_price\"] < 0,\"order_id\"].unique()\n",
    "ordlns_df = ordlns_df.loc[~ordlns_df[\"order_id\"].isin(neg_unit_price),:]"
   ]
  },
  {
   "cell_type": "markdown",
   "metadata": {
    "id": "gQnWZ6OZETG6"
   },
   "source": [
    "sku ids in orders table were crossreferenced with the products table and orders with unknown sku ids were removed"
   ]
  },
  {
   "cell_type": "code",
   "execution_count": 57,
   "metadata": {
    "id": "T5CQJIaiAyF0"
   },
   "outputs": [
    {
     "data": {
      "text/plain": [
       "False"
      ]
     },
     "execution_count": 57,
     "metadata": {},
     "output_type": "execute_result"
    }
   ],
   "source": [
    "incomplete_orders = ordlns_df[\"order_id\"].loc[~ordlns_df[\"sku\"].isin(products_df[\"sku\"])].unique()\n",
    "ordlns_df = ordlns_df.loc[~ordlns_df[\"order_id\"].isin(incomplete_orders),:]\n",
    "any(~ordlns_df[\"sku\"].isin(products_df[\"sku\"]))"
   ]
  },
  {
   "cell_type": "markdown",
   "metadata": {
    "id": "ZfGqOaHDEZ3S"
   },
   "source": [
    "order_ids in orders table were crossreferenced order_lines table and rows without matching pair were removed "
   ]
  },
  {
   "cell_type": "code",
   "execution_count": 58,
   "metadata": {
    "id": "RawzMTePEQQ-"
   },
   "outputs": [
    {
     "data": {
      "text/plain": [
       "False"
      ]
     },
     "execution_count": 58,
     "metadata": {},
     "output_type": "execute_result"
    }
   ],
   "source": [
    "orders_df = orders_df.loc[orders_df[\"order_id\"].isin(ordlns_df[\"order_id\"]),:]\n",
    "ordlns_df = ordlns_df.loc[ordlns_df[\"order_id\"].isin(orders_df[\"order_id\"]),:]\n",
    "any(~orders_df[\"order_id\"].isin(ordlns_df[\"order_id\"])) or any(~ordlns_df[\"order_id\"].isin(orders_df[\"order_id\"]))"
   ]
  },
  {
   "cell_type": "markdown",
   "metadata": {
    "id": "mcmMoZJ5J_oQ"
   },
   "source": [
    "## Estimating Shipping Costs (paid - total_unit_price)"
   ]
  },
  {
   "cell_type": "code",
   "execution_count": 59,
   "metadata": {
    "id": "8kVi_MloDFk0"
   },
   "outputs": [],
   "source": [
    "ordlns_df[\"unit_price_total\"] = ordlns_df[\"unit_price\"]*ordlns_df[\"product_quantity\"]\n",
    "orders_df = ordlns_df.groupby(\"order_id\").agg({\"unit_price_total\": \"sum\"}).reset_index().merge(orders_df, how = \"right\", on = \"order_id\")"
   ]
  },
  {
   "cell_type": "code",
   "execution_count": 60,
   "metadata": {
    "colab": {
     "base_uri": "https://localhost:8080/"
    },
    "id": "L237bC2QGHhE",
    "outputId": "3fea8371-d1f7-4e97-b406-db82318135f6"
   },
   "outputs": [
    {
     "data": {
      "text/plain": [
       "count    44865.000000\n",
       "mean         4.276896\n",
       "std         25.173847\n",
       "min       -165.000000\n",
       "25%          0.000000\n",
       "50%          4.990000\n",
       "75%          6.990000\n",
       "max       3984.990000\n",
       "Name: shipping_cost, dtype: float64"
      ]
     },
     "execution_count": 60,
     "metadata": {},
     "output_type": "execute_result"
    }
   ],
   "source": [
    "orders_df[\"shipping_cost\"] = (orders_df[\"total_paid\"] - orders_df[\"unit_price_total\"])\n",
    "orders_df[\"shipping_cost\"].describe()"
   ]
  },
  {
   "cell_type": "markdown",
   "metadata": {},
   "source": [
    "Very high discrepancies between the paid price and the orders unit price are likely not due to shipping costs but might result from incorrect data entries. A maximum discrepancy of 25 $ was assumed as a conservative estimate and orders with a higher discrepancy were removed."
   ]
  },
  {
   "cell_type": "code",
   "execution_count": null,
   "metadata": {
    "id": "-yYx9AB8ZSbf"
   },
   "outputs": [],
   "source": [
    "orders_df = orders_df.loc[orders_df[\"shipping_cost\"].between(-25,25, inclusive = \"both\"),:]"
   ]
  },
  {
   "cell_type": "code",
   "execution_count": 61,
   "metadata": {
    "colab": {
     "base_uri": "https://localhost:8080/",
     "height": 448
    },
    "id": "cpb8VUj-HlBf",
    "outputId": "d47a1c5a-f95d-435b-faaa-5a00508dd7ee"
   },
   "outputs": [
    {
     "data": {
      "text/plain": [
       "<Axes: ylabel='Frequency'>"
      ]
     },
     "execution_count": 61,
     "metadata": {},
     "output_type": "execute_result"
    },
    {
     "data": {
      "image/png": "[encoded data removed]",
      "text/plain": [
       "<Figure size 640x480 with 1 Axes>"
      ]
     },
     "metadata": {},
     "output_type": "display_data"
    }
   ],
   "source": [
    "orders_df[\"shipping_cost\"].plot.hist(bins=range(-25,25,5))"
   ]
  },
  {
   "cell_type": "code",
   "execution_count": 62,
   "metadata": {
    "id": "MyjsJSLDcVFO"
   },
   "outputs": [],
   "source": [
    "ordlns_df = ordlns_df.loc[ordlns_df[\"order_id\"].isin(orders_df[\"order_id\"]),:]"
   ]
  },
  {
   "cell_type": "markdown",
   "metadata": {
    "id": "L7oXuLcLDBp5"
   },
   "source": [
    "# Estimating sales discounts"
   ]
  },
  {
   "cell_type": "markdown",
   "metadata": {
    "id": "Dy0bzVkHIVdr"
   },
   "source": [
    "The granted discount for each order was estimated by comparing the order price with the list prices for the respective products"
   ]
  },
  {
   "cell_type": "code",
   "execution_count": 66,
   "metadata": {
    "id": "uxpqyevGHoee"
   },
   "outputs": [],
   "source": [
    "ordlns_df = ordlns_df.merge(products_df.loc[:,[\"sku\", \"price\"]], how = \"left\", on = \"sku\").rename(columns = {\"price\":\"list_price\"})"
   ]
  },
  {
   "cell_type": "code",
   "execution_count": 67,
   "metadata": {
    "colab": {
     "base_uri": "https://localhost:8080/"
    },
    "id": "dcWW9hA_dq7p",
    "outputId": "7b0d3423-1da3-4f5b-8135-23ddc6c1e17a"
   },
   "outputs": [
    {
     "data": {
      "text/plain": [
       "count    59073.000000\n",
       "mean       237.315596\n",
       "std        498.923756\n",
       "min          0.010000\n",
       "25%         29.490000\n",
       "50%         69.990000\n",
       "75%        184.580000\n",
       "max       8287.800000\n",
       "Name: unit_price, dtype: float64"
      ]
     },
     "execution_count": 67,
     "metadata": {},
     "output_type": "execute_result"
    }
   ],
   "source": [
    "ordlns_df[\"unit_price\"].describe()"
   ]
  },
  {
   "cell_type": "code",
   "execution_count": 68,
   "metadata": {
    "colab": {
     "base_uri": "https://localhost:8080/",
     "height": 448
    },
    "id": "Sj17vTgqv-Oe",
    "outputId": "ccc03b7c-9217-4b0b-8055-5bd5230170c7"
   },
   "outputs": [
    {
     "data": {
      "text/plain": [
       "<Axes: >"
      ]
     },
     "execution_count": 68,
     "metadata": {},
     "output_type": "execute_result"
    },
    {
     "data": {
      "image/png": "[encoded data removed]",
      "text/plain": [
       "<Figure size 640x480 with 1 Axes>"
      ]
     },
     "metadata": {},
     "output_type": "display_data"
    }
   ],
   "source": [
    "ordlns_df[\"list_price\"].hist(bins = range(0,2000,20))"
   ]
  },
  {
   "cell_type": "code",
   "execution_count": 69,
   "metadata": {
    "id": "MLcjjaK3JOCu"
   },
   "outputs": [],
   "source": [
    "ordlns_df[\"discount_value\"] = ordlns_df[\"list_price\"] - ordlns_df[\"unit_price\"]\n",
    "ordlns_df[\"discount_perc\"] = (ordlns_df[\"discount_value\"]/ordlns_df[\"list_price\"]) * 100"
   ]
  },
  {
   "cell_type": "code",
   "execution_count": 70,
   "metadata": {
    "colab": {
     "base_uri": "https://localhost:8080/",
     "height": 598
    },
    "id": "L5uzlTYdIUlr",
    "outputId": "70313236-d3a2-49ae-9f89-9eb2ccfe62ca"
   },
   "outputs": [
    {
     "name": "stderr",
     "output_type": "stream",
     "text": [
      "C:\\Users\\Johannes\\anaconda3\\envs\\data_science\\lib\\site-packages\\seaborn\\axisgrid.py:123: UserWarning: The figure layout has changed to tight\n",
      "  self._figure.tight_layout(*args, **kwargs)\n",
      "C:\\Users\\Johannes\\AppData\\Local\\Temp\\ipykernel_10348\\4198967237.py:9: UserWarning: FixedFormatter should only be used together with FixedLocator\n",
      "  chart.ax.set_xticklabels(['0K', '2K', '4K', '6K', '8K', '10K'], fontsize = 15)\n",
      "C:\\Users\\Johannes\\AppData\\Local\\Temp\\ipykernel_10348\\4198967237.py:10: UserWarning: FixedFormatter should only be used together with FixedLocator\n",
      "  chart.ax.set_yticklabels(['0K', '2K', '4K', '6K', '8K', '10K'], fontsize = 15)\n"
     ]
    },
    {
     "data": {
      "image/png": "[encoded data removed]",
      "text/plain": [
       "<Figure size 607.611x500 with 1 Axes>"
      ]
     },
     "metadata": {},
     "output_type": "display_data"
    }
   ],
   "source": [
    "discounted = ordlns_df[\"discount_perc\"] > 0.1\n",
    "\n",
    "chart = sns.relplot(data = ordlns_df,\n",
    "                    kind = \"scatter\", x = \"list_price\", y = \"unit_price\",\n",
    "                    hue = discounted, alpha = 0.6, size = 0.2, edgecolor=None)\n",
    "plt.plot([0, 10000], [0, 10000], color = \"black\")\n",
    "plt.xlabel(\"List Price\", fontsize = 15)\n",
    "plt.ylabel(\"Sold for\", fontsize = 15)\n",
    "chart.ax.set_xticklabels(['0K', '2K', '4K', '6K', '8K', '10K'], fontsize = 15)\n",
    "chart.ax.set_yticklabels(['0K', '2K', '4K', '6K', '8K', '10K'], fontsize = 15)\n",
    "sns.despine(offset=10, trim=True);"
   ]
  },
  {
   "cell_type": "code",
   "execution_count": 71,
   "metadata": {
    "colab": {
     "base_uri": "https://localhost:8080/",
     "height": 526
    },
    "id": "CE9q1nxueYMu",
    "outputId": "baeefbb9-334e-4b3d-b274-f05fd19b7e05"
   },
   "outputs": [
    {
     "name": "stderr",
     "output_type": "stream",
     "text": [
      "C:\\Users\\Johannes\\anaconda3\\envs\\data_science\\lib\\site-packages\\seaborn\\axisgrid.py:123: UserWarning: The figure layout has changed to tight\n",
      "  self._figure.tight_layout(*args, **kwargs)\n"
     ]
    },
    {
     "data": {
      "image/png": "[encoded data removed]",
      "text/plain": [
       "<Figure size 500x500 with 1 Axes>"
      ]
     },
     "metadata": {},
     "output_type": "display_data"
    }
   ],
   "source": [
    "chart = sns.displot(kind = \"hist\", data = ordlns_df, x = \"discount_perc\",bins=range(-50,100,1), edgecolor=None)\n",
    "for patch in chart.ax.patches[51:]: patch.set_facecolor('darkorange')\n",
    "plt.xlabel(\"Discount [%]\", fontsize = 15)\n",
    "plt.ylabel(None)\n",
    "chart.ax.get_yaxis().set_visible(False)\n",
    "sns.despine(offset=10, trim=True, left = True);"
   ]
  },
  {
   "cell_type": "markdown",
   "metadata": {
    "id": "4zvi17P1AkOj"
   },
   "source": [
    "# Creating product categories"
   ]
  },
  {
   "cell_type": "markdown",
   "metadata": {},
   "source": [
    "Products that were sold often or generated high revenue were manually categorized based on their product type, name and description"
   ]
  },
  {
   "cell_type": "code",
   "execution_count": 91,
   "metadata": {
    "colab": {
     "base_uri": "https://localhost:8080/"
    },
    "id": "rQ8KYcSb1d5n",
    "outputId": "c67c5b27-c606-4eb1-977d-9c6df0adb416"
   },
   "outputs": [],
   "source": [
    "sold_products_df = ordlns_df.merge(products_df, how = \"left\", on =\"sku\")\n",
    "common_types = sold_products_df[[\"type\", \"ordln_id\"]].groupby(\"type\").count().nlargest(30, 'ordln_id').index\n",
    "high_rev_types = sold_products_df[[\"type\", \"unit_price_total\"]].groupby(\"type\").sum().nlargest(30, 'unit_price_total').index\n",
    "high_rev_types = high_rev_types[~high_rev_types.isin(common_types)]"
   ]
  },
  {
   "cell_type": "code",
   "execution_count": 94,
   "metadata": {
    "colab": {
     "base_uri": "https://localhost:8080/",
     "height": 1000
    },
    "id": "Nfw-5esd1gnP",
    "outputId": "7c6967dd-0dd6-4ebf-d82b-d932b3fd323c"
   },
   "outputs": [
    {
     "data": {
      "text/html": [
       "<div>\n",
       "<style scoped>\n",
       "    .dataframe tbody tr th:only-of-type {\n",
       "        vertical-align: middle;\n",
       "    }\n",
       "\n",
       "    .dataframe tbody tr th {\n",
       "        vertical-align: top;\n",
       "    }\n",
       "\n",
       "    .dataframe thead th {\n",
       "        text-align: right;\n",
       "    }\n",
       "</style>\n",
       "<table border=\"1\" class=\"dataframe\">\n",
       "  <thead>\n",
       "    <tr style=\"text-align: right;\">\n",
       "      <th></th>\n",
       "      <th>sku</th>\n",
       "      <th>name</th>\n",
       "      <th>desc</th>\n",
       "      <th>price</th>\n",
       "      <th>in_stock</th>\n",
       "      <th>type</th>\n",
       "      <th>brand_id</th>\n",
       "    </tr>\n",
       "  </thead>\n",
       "  <tbody>\n",
       "    <tr>\n",
       "      <th>1982</th>\n",
       "      <td>SHE0022</td>\n",
       "      <td>Airmask SwitchEasy iPhone 6 Plus Silver Case</td>\n",
       "      <td>Protective cover with 360 degrees for iPhone 6...</td>\n",
       "      <td>29.99</td>\n",
       "      <td>0</td>\n",
       "      <td>11865403</td>\n",
       "      <td>SHE</td>\n",
       "    </tr>\n",
       "    <tr>\n",
       "      <th>12555</th>\n",
       "      <td>LIF0093</td>\n",
       "      <td>Lifeproof Nood iPhone Case SE / 5 / 5S Submers...</td>\n",
       "      <td>ultra rugged waterproof case for iPhone SE / 5...</td>\n",
       "      <td>89.99</td>\n",
       "      <td>0</td>\n",
       "      <td>11865403</td>\n",
       "      <td>LIF</td>\n",
       "    </tr>\n",
       "    <tr>\n",
       "      <th>3070</th>\n",
       "      <td>APP1140</td>\n",
       "      <td>Case Apple iPhone 6 / 6S Silicone Case White</td>\n",
       "      <td>Ultrathin silicone case and microfiber premium...</td>\n",
       "      <td>39.00</td>\n",
       "      <td>0</td>\n",
       "      <td>11865403</td>\n",
       "      <td>APP</td>\n",
       "    </tr>\n",
       "    <tr>\n",
       "      <th>1209</th>\n",
       "      <td>APP0841</td>\n",
       "      <td>Apple iPhone 6 Plus Leather Case Red</td>\n",
       "      <td>Case premium leather.</td>\n",
       "      <td>49.00</td>\n",
       "      <td>0</td>\n",
       "      <td>11865403</td>\n",
       "      <td>APP</td>\n",
       "    </tr>\n",
       "    <tr>\n",
       "      <th>2480</th>\n",
       "      <td>UAG0019</td>\n",
       "      <td>Urban Armor Gear Scout Folio Case Cover iPhone...</td>\n",
       "      <td>Protective shock and waterproof case for iPhon...</td>\n",
       "      <td>34.99</td>\n",
       "      <td>0</td>\n",
       "      <td>11865403</td>\n",
       "      <td>UAG</td>\n",
       "    </tr>\n",
       "    <tr>\n",
       "      <th>18695</th>\n",
       "      <td>MUJ0028-A</td>\n",
       "      <td>Open - Mujjo Full Leather Wallet Case iPhone X...</td>\n",
       "      <td>Case reconditioned ultrafine material with car...</td>\n",
       "      <td>44.90</td>\n",
       "      <td>0</td>\n",
       "      <td>11865403</td>\n",
       "      <td>MOP</td>\n",
       "    </tr>\n",
       "    <tr>\n",
       "      <th>12517</th>\n",
       "      <td>MDT0021</td>\n",
       "      <td>Mediterrans cover iPhone 5 / 5s / SE Costa Bra...</td>\n",
       "      <td>Cover with matte finishes for iPhone 5 / 5s / ...</td>\n",
       "      <td>19.00</td>\n",
       "      <td>0</td>\n",
       "      <td>11865403</td>\n",
       "      <td>MDT</td>\n",
       "    </tr>\n",
       "    <tr>\n",
       "      <th>17443</th>\n",
       "      <td>MUJ0035</td>\n",
       "      <td>Mujjo Full Leather Skin Case iPhone X Tan</td>\n",
       "      <td>Case ultrafine material vegetable tanned leath...</td>\n",
       "      <td>49.90</td>\n",
       "      <td>1</td>\n",
       "      <td>11865403</td>\n",
       "      <td>MOP</td>\n",
       "    </tr>\n",
       "    <tr>\n",
       "      <th>13459</th>\n",
       "      <td>MOS0205</td>\n",
       "      <td>Moshi iGlaze iPhone Armor Case 7 Black</td>\n",
       "      <td>protective cover two colors with metallic acce...</td>\n",
       "      <td>40.00</td>\n",
       "      <td>0</td>\n",
       "      <td>11865403</td>\n",
       "      <td>MOS</td>\n",
       "    </tr>\n",
       "    <tr>\n",
       "      <th>1207</th>\n",
       "      <td>APP0836</td>\n",
       "      <td>Apple iPhone 6 Plus Case Green</td>\n",
       "      <td>Ultrathin silicone case and microfiber premium.</td>\n",
       "      <td>39.00</td>\n",
       "      <td>0</td>\n",
       "      <td>11865403</td>\n",
       "      <td>APP</td>\n",
       "    </tr>\n",
       "  </tbody>\n",
       "</table>\n",
       "</div>"
      ],
      "text/plain": [
       "             sku                                               name  \\\n",
       "1982     SHE0022       Airmask SwitchEasy iPhone 6 Plus Silver Case   \n",
       "12555    LIF0093  Lifeproof Nood iPhone Case SE / 5 / 5S Submers...   \n",
       "3070     APP1140       Case Apple iPhone 6 / 6S Silicone Case White   \n",
       "1209     APP0841               Apple iPhone 6 Plus Leather Case Red   \n",
       "2480     UAG0019  Urban Armor Gear Scout Folio Case Cover iPhone...   \n",
       "18695  MUJ0028-A  Open - Mujjo Full Leather Wallet Case iPhone X...   \n",
       "12517    MDT0021  Mediterrans cover iPhone 5 / 5s / SE Costa Bra...   \n",
       "17443    MUJ0035          Mujjo Full Leather Skin Case iPhone X Tan   \n",
       "13459    MOS0205             Moshi iGlaze iPhone Armor Case 7 Black   \n",
       "1207     APP0836                     Apple iPhone 6 Plus Case Green   \n",
       "\n",
       "                                                    desc  price  in_stock  \\\n",
       "1982   Protective cover with 360 degrees for iPhone 6...  29.99         0   \n",
       "12555  ultra rugged waterproof case for iPhone SE / 5...  89.99         0   \n",
       "3070   Ultrathin silicone case and microfiber premium...  39.00         0   \n",
       "1209                               Case premium leather.  49.00         0   \n",
       "2480   Protective shock and waterproof case for iPhon...  34.99         0   \n",
       "18695  Case reconditioned ultrafine material with car...  44.90         0   \n",
       "12517  Cover with matte finishes for iPhone 5 / 5s / ...  19.00         0   \n",
       "17443  Case ultrafine material vegetable tanned leath...  49.90         1   \n",
       "13459  protective cover two colors with metallic acce...  40.00         0   \n",
       "1207     Ultrathin silicone case and microfiber premium.  39.00         0   \n",
       "\n",
       "           type brand_id  \n",
       "1982   11865403      SHE  \n",
       "12555  11865403      LIF  \n",
       "3070   11865403      APP  \n",
       "1209   11865403      APP  \n",
       "2480   11865403      UAG  \n",
       "18695  11865403      MOP  \n",
       "12517  11865403      MDT  \n",
       "17443  11865403      MOP  \n",
       "13459  11865403      MOS  \n",
       "1207   11865403      APP  "
      ]
     },
     "execution_count": 94,
     "metadata": {},
     "output_type": "execute_result"
    }
   ],
   "source": [
    "#exploration of the item type descriptions of all common or high revenue types\n",
    "current_type_index = 0\n",
    "products_df.loc[products_df[\"type\"] == common_types[current_type_index],:].sample(10)"
   ]
  },
  {
   "cell_type": "code",
   "execution_count": 95,
   "metadata": {
    "id": "FdP_WhVG2iKT"
   },
   "outputs": [],
   "source": [
    "#dictonary type : category\n",
    "product_caregories_dict = {\n",
    "    common_types[0]: \"accessories, cases\",\n",
    "    common_types[1]: \"accessories, external_hard_drives\",\n",
    "    common_types[2]: \"parts, ram\",\n",
    "    common_types[3]: \"devices_and_gadgets\",\n",
    "    common_types[4]: \"accessories, headphones\",\n",
    "    common_types[5]: \"adapters_and_cables\",\n",
    "    common_types[6]: \"parts, SSD\",\n",
    "    common_types[7]: \"parts, HDD\",\n",
    "    common_types[8]: \"accessories, monitors\",\n",
    "    common_types[9]: \"adapters_and_cables\",\n",
    "    common_types[10]: \"warranty_plans\",\n",
    "    common_types[11]:\"accessories, graphics_tablets\",\n",
    "    common_types[12]: \"NAS\",\n",
    "    common_types[13]: \"adapters_and_cables\",\n",
    "    common_types[14]: \"accessories, cases\",\n",
    "    common_types[15]: \"accessories, keyboards\",\n",
    "    common_types[16]: \"accessories, memory_cards\",\n",
    "    common_types[17]: \"parts, repair_kits\",\n",
    "    common_types[18]: \"accessories, cases\", # screen protection\n",
    "    common_types[19]: \"accessories, chargers\",\n",
    "    common_types[20]: \"parts, batteries\",\n",
    "    common_types[21]: \"iphones, used\",\n",
    "    common_types[22]: \"accessories, speakers\",\n",
    "    common_types[23]: \"accessories, cases\",\n",
    "    common_types[24]: \"accessories, pointers\",\n",
    "    common_types[25]: \"parts, SSD\",\n",
    "    common_types[26]: \"accessories, docking_stations\",\n",
    "    common_types[27]: \"parts, tools\",\n",
    "    common_types[28]: \"parts, batteries\",\n",
    "    common_types[29]: \"desktop, macbooks\",\n",
    "    high_rev_types[0]: \"desktop, imacs\",\n",
    "    high_rev_types[1]: \"desktop, imacs\",\n",
    "    high_rev_types[2]: \"desktop, used_macbooks\",\n",
    "    high_rev_types[3]: \"desktop, imacs\",\n",
    "    high_rev_types[4]: \"desktop, macbooks\",\n",
    "    high_rev_types[5]: \"iphones\",\n",
    "    high_rev_types[6]: \"iphones\",\n",
    "    high_rev_types[7]: \"iphones, used\",\n",
    "    high_rev_types[8]: \"iphones\",\n",
    "    high_rev_types[9]: \"ipads\",\n",
    "    high_rev_types[10]: \"devices_and_gadgets\",\n",
    "    high_rev_types[11]: \"devices_and_gadgets\",\n",
    "    high_rev_types[12]: \"iphones\",\n",
    "    high_rev_types[13]: \"ipads\",\n",
    "    high_rev_types[14]: \"iphones\",\n",
    "}"
   ]
  },
  {
   "cell_type": "code",
   "execution_count": 96,
   "metadata": {
    "colab": {
     "base_uri": "https://localhost:8080/",
     "height": 206
    },
    "id": "KNtxDSND22cS",
    "outputId": "fc8df83c-0ed5-48dc-fa4f-1ce9b6980f11"
   },
   "outputs": [
    {
     "data": {
      "text/html": [
       "<div>\n",
       "<style scoped>\n",
       "    .dataframe tbody tr th:only-of-type {\n",
       "        vertical-align: middle;\n",
       "    }\n",
       "\n",
       "    .dataframe tbody tr th {\n",
       "        vertical-align: top;\n",
       "    }\n",
       "\n",
       "    .dataframe thead th {\n",
       "        text-align: right;\n",
       "    }\n",
       "</style>\n",
       "<table border=\"1\" class=\"dataframe\">\n",
       "  <thead>\n",
       "    <tr style=\"text-align: right;\">\n",
       "      <th></th>\n",
       "      <th>sku</th>\n",
       "      <th>name</th>\n",
       "      <th>desc</th>\n",
       "      <th>price</th>\n",
       "      <th>in_stock</th>\n",
       "      <th>type</th>\n",
       "      <th>brand_id</th>\n",
       "      <th>categories</th>\n",
       "      <th>broad_categories</th>\n",
       "    </tr>\n",
       "  </thead>\n",
       "  <tbody>\n",
       "    <tr>\n",
       "      <th>0</th>\n",
       "      <td>RAI0007</td>\n",
       "      <td>Silver Rain Design mStand Support</td>\n",
       "      <td>Aluminum support compatible with all MacBook</td>\n",
       "      <td>59.99</td>\n",
       "      <td>1</td>\n",
       "      <td>8696</td>\n",
       "      <td>RAI</td>\n",
       "      <td>other</td>\n",
       "      <td>other</td>\n",
       "    </tr>\n",
       "    <tr>\n",
       "      <th>1</th>\n",
       "      <td>APP0023</td>\n",
       "      <td>Apple Mac Keyboard Keypad Spanish</td>\n",
       "      <td>USB ultrathin keyboard Apple Mac Spanish.</td>\n",
       "      <td>59.00</td>\n",
       "      <td>0</td>\n",
       "      <td>13855401</td>\n",
       "      <td>APP</td>\n",
       "      <td>accessories, keyboards</td>\n",
       "      <td>accessories</td>\n",
       "    </tr>\n",
       "    <tr>\n",
       "      <th>2</th>\n",
       "      <td>APP0025</td>\n",
       "      <td>Mighty Mouse Apple Mouse for Mac</td>\n",
       "      <td>mouse Apple USB cable.</td>\n",
       "      <td>59.00</td>\n",
       "      <td>0</td>\n",
       "      <td>1387</td>\n",
       "      <td>APP</td>\n",
       "      <td>other</td>\n",
       "      <td>other</td>\n",
       "    </tr>\n",
       "    <tr>\n",
       "      <th>3</th>\n",
       "      <td>APP0072</td>\n",
       "      <td>Apple Dock to USB Cable iPhone and iPod white</td>\n",
       "      <td>IPhone dock and USB Cable Apple iPod.</td>\n",
       "      <td>25.00</td>\n",
       "      <td>0</td>\n",
       "      <td>1230</td>\n",
       "      <td>APP</td>\n",
       "      <td>adapters_and_cables</td>\n",
       "      <td>adapters_and_cables</td>\n",
       "    </tr>\n",
       "    <tr>\n",
       "      <th>4</th>\n",
       "      <td>KIN0007</td>\n",
       "      <td>Mac Memory Kingston 2GB 667MHz DDR2 SO-DIMM</td>\n",
       "      <td>2GB RAM Mac mini and iMac (2006/07) MacBook Pr...</td>\n",
       "      <td>34.99</td>\n",
       "      <td>1</td>\n",
       "      <td>1364</td>\n",
       "      <td>KIN</td>\n",
       "      <td>parts, ram</td>\n",
       "      <td>parts</td>\n",
       "    </tr>\n",
       "  </tbody>\n",
       "</table>\n",
       "</div>"
      ],
      "text/plain": [
       "       sku                                           name  \\\n",
       "0  RAI0007              Silver Rain Design mStand Support   \n",
       "1  APP0023              Apple Mac Keyboard Keypad Spanish   \n",
       "2  APP0025               Mighty Mouse Apple Mouse for Mac   \n",
       "3  APP0072  Apple Dock to USB Cable iPhone and iPod white   \n",
       "4  KIN0007    Mac Memory Kingston 2GB 667MHz DDR2 SO-DIMM   \n",
       "\n",
       "                                                desc  price  in_stock  \\\n",
       "0       Aluminum support compatible with all MacBook  59.99         1   \n",
       "1          USB ultrathin keyboard Apple Mac Spanish.  59.00         0   \n",
       "2                             mouse Apple USB cable.  59.00         0   \n",
       "3              IPhone dock and USB Cable Apple iPod.  25.00         0   \n",
       "4  2GB RAM Mac mini and iMac (2006/07) MacBook Pr...  34.99         1   \n",
       "\n",
       "       type brand_id              categories     broad_categories  \n",
       "0      8696      RAI                   other                other  \n",
       "1  13855401      APP  accessories, keyboards          accessories  \n",
       "2      1387      APP                   other                other  \n",
       "3      1230      APP     adapters_and_cables  adapters_and_cables  \n",
       "4      1364      KIN              parts, ram                parts  "
      ]
     },
     "execution_count": 96,
     "metadata": {},
     "output_type": "execute_result"
    }
   ],
   "source": [
    "# add a category and braod category column to the products\n",
    "products_df[\"categories\"] = products_df[\"type\"].map(product_caregories_dict)\n",
    "products_df.loc[products_df[\"categories\"].isna(), \"categories\"] = \"other\"\n",
    "products_df[\"broad_categories\"] = products_df[\"categories\"].str.extract(r'([^,]*)', expand=False)\n",
    "products_df.head()"
   ]
  },
  {
   "cell_type": "code",
   "execution_count": 97,
   "metadata": {
    "colab": {
     "base_uri": "https://localhost:8080/",
     "height": 206
    },
    "id": "n5yu68OW3OHG",
    "outputId": "50c183fe-1bba-4ee1-e3ec-e7495eec6f5b"
   },
   "outputs": [
    {
     "data": {
      "text/html": [
       "<div>\n",
       "<style scoped>\n",
       "    .dataframe tbody tr th:only-of-type {\n",
       "        vertical-align: middle;\n",
       "    }\n",
       "\n",
       "    .dataframe tbody tr th {\n",
       "        vertical-align: top;\n",
       "    }\n",
       "\n",
       "    .dataframe thead th {\n",
       "        text-align: right;\n",
       "    }\n",
       "</style>\n",
       "<table border=\"1\" class=\"dataframe\">\n",
       "  <thead>\n",
       "    <tr style=\"text-align: right;\">\n",
       "      <th></th>\n",
       "      <th>ordln_id</th>\n",
       "      <th>order_id</th>\n",
       "      <th>product_quantity</th>\n",
       "      <th>sku</th>\n",
       "      <th>unit_price</th>\n",
       "      <th>process_date</th>\n",
       "      <th>brand_id</th>\n",
       "      <th>unit_price_total</th>\n",
       "      <th>list_price</th>\n",
       "      <th>discount_value</th>\n",
       "      <th>discount_perc</th>\n",
       "      <th>categories</th>\n",
       "      <th>broad_categories</th>\n",
       "    </tr>\n",
       "  </thead>\n",
       "  <tbody>\n",
       "    <tr>\n",
       "      <th>0</th>\n",
       "      <td>1119116</td>\n",
       "      <td>299545</td>\n",
       "      <td>1</td>\n",
       "      <td>OWC0100</td>\n",
       "      <td>47.49</td>\n",
       "      <td>2017-01-01 01:46:16</td>\n",
       "      <td>OWC</td>\n",
       "      <td>47.49</td>\n",
       "      <td>60.99</td>\n",
       "      <td>13.50</td>\n",
       "      <td>22.134776</td>\n",
       "      <td>parts, repair_kits</td>\n",
       "      <td>parts</td>\n",
       "    </tr>\n",
       "    <tr>\n",
       "      <th>1</th>\n",
       "      <td>1119119</td>\n",
       "      <td>299546</td>\n",
       "      <td>1</td>\n",
       "      <td>IOT0014</td>\n",
       "      <td>18.99</td>\n",
       "      <td>2017-01-01 01:50:34</td>\n",
       "      <td>IOT</td>\n",
       "      <td>18.99</td>\n",
       "      <td>22.95</td>\n",
       "      <td>3.96</td>\n",
       "      <td>17.254902</td>\n",
       "      <td>other</td>\n",
       "      <td>other</td>\n",
       "    </tr>\n",
       "    <tr>\n",
       "      <th>2</th>\n",
       "      <td>1119120</td>\n",
       "      <td>295347</td>\n",
       "      <td>1</td>\n",
       "      <td>APP0700</td>\n",
       "      <td>72.19</td>\n",
       "      <td>2017-01-01 01:54:11</td>\n",
       "      <td>APP</td>\n",
       "      <td>72.19</td>\n",
       "      <td>89.00</td>\n",
       "      <td>16.81</td>\n",
       "      <td>18.887640</td>\n",
       "      <td>parts, batteries</td>\n",
       "      <td>parts</td>\n",
       "    </tr>\n",
       "    <tr>\n",
       "      <th>3</th>\n",
       "      <td>1119126</td>\n",
       "      <td>299549</td>\n",
       "      <td>1</td>\n",
       "      <td>PAC0929</td>\n",
       "      <td>2565.99</td>\n",
       "      <td>2017-01-01 02:07:42</td>\n",
       "      <td>PAC</td>\n",
       "      <td>2565.99</td>\n",
       "      <td>3209.00</td>\n",
       "      <td>643.01</td>\n",
       "      <td>20.037706</td>\n",
       "      <td>desktop, imacs</td>\n",
       "      <td>desktop</td>\n",
       "    </tr>\n",
       "    <tr>\n",
       "      <th>4</th>\n",
       "      <td>1119134</td>\n",
       "      <td>299556</td>\n",
       "      <td>1</td>\n",
       "      <td>CRU0039-A</td>\n",
       "      <td>60.90</td>\n",
       "      <td>2017-01-01 02:20:14</td>\n",
       "      <td>CRU</td>\n",
       "      <td>60.90</td>\n",
       "      <td>76.99</td>\n",
       "      <td>16.09</td>\n",
       "      <td>20.898818</td>\n",
       "      <td>devices_and_gadgets</td>\n",
       "      <td>devices_and_gadgets</td>\n",
       "    </tr>\n",
       "  </tbody>\n",
       "</table>\n",
       "</div>"
      ],
      "text/plain": [
       "   ordln_id  order_id  product_quantity        sku  unit_price  \\\n",
       "0   1119116    299545                 1    OWC0100       47.49   \n",
       "1   1119119    299546                 1    IOT0014       18.99   \n",
       "2   1119120    295347                 1    APP0700       72.19   \n",
       "3   1119126    299549                 1    PAC0929     2565.99   \n",
       "4   1119134    299556                 1  CRU0039-A       60.90   \n",
       "\n",
       "         process_date brand_id  unit_price_total  list_price  discount_value  \\\n",
       "0 2017-01-01 01:46:16      OWC             47.49       60.99           13.50   \n",
       "1 2017-01-01 01:50:34      IOT             18.99       22.95            3.96   \n",
       "2 2017-01-01 01:54:11      APP             72.19       89.00           16.81   \n",
       "3 2017-01-01 02:07:42      PAC           2565.99     3209.00          643.01   \n",
       "4 2017-01-01 02:20:14      CRU             60.90       76.99           16.09   \n",
       "\n",
       "   discount_perc           categories     broad_categories  \n",
       "0      22.134776   parts, repair_kits                parts  \n",
       "1      17.254902                other                other  \n",
       "2      18.887640     parts, batteries                parts  \n",
       "3      20.037706       desktop, imacs              desktop  \n",
       "4      20.898818  devices_and_gadgets  devices_and_gadgets  "
      ]
     },
     "execution_count": 97,
     "metadata": {},
     "output_type": "execute_result"
    }
   ],
   "source": [
    "ordlns_df = ordlns_df.merge(products_df.loc[:,[\"sku\", \"categories\", \"broad_categories\"]], how = \"left\", on = \"sku\")\n",
    "ordlns_df.head()"
   ]
  },
  {
   "cell_type": "markdown",
   "metadata": {
    "id": "N-Tiz-lQaczC"
   },
   "source": [
    "# Save the cleaned dataset"
   ]
  },
  {
   "cell_type": "code",
   "execution_count": 98,
   "metadata": {
    "colab": {
     "base_uri": "https://localhost:8080/",
     "height": 17
    },
    "id": "gUcJc1E6sVOl",
    "outputId": "52bdab39-555b-4ad0-ce81-01c5f9b4fc06"
   },
   "outputs": [],
   "source": [
    "orders_df.to_csv(\"./data_clean/orders_qu.csv\", index=False)\n",
    "ordlns_df.to_csv(\"./data_clean/orderlines_qu.csv\", index=False)\n",
    "products_df.to_csv(\"./data_clean/products_qu.csv\", index=False)\n",
    "brands_df.to_csv(\"./data_clean/brands_qu.csv\", index=False)"
   ]
  }
 ],
 "metadata": {
  "colab": {
   "collapsed_sections": [
    "RvPGm6XL6ubl"
   ],
   "provenance": []
  },
  "kernelspec": {
   "display_name": "Python 3 (ipykernel)",
   "language": "python",
   "name": "python3"
  },
  "language_info": {
   "codemirror_mode": {
    "name": "ipython",
    "version": 3
   },
   "file_extension": ".py",
   "mimetype": "text/x-python",
   "name": "python",
   "nbconvert_exporter": "python",
   "pygments_lexer": "ipython3",
   "version": "3.10.14"
  }
 },
 "nbformat": 4,
 "nbformat_minor": 4
}
